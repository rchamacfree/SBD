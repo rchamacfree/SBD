{
 "cells": [
  {
   "cell_type": "markdown",
   "metadata": {},
   "source": [
    "# T2.1: Exercicio CSV con PANDAS"
   ]
  },
  {
   "cell_type": "markdown",
   "metadata": {},
   "source": [
    "- Importar la librería Pandas"
   ]
  },
  {
   "cell_type": "code",
   "execution_count": 1,
   "metadata": {},
   "outputs": [],
   "source": [
    "import pandas as pd"
   ]
  },
  {
   "cell_type": "markdown",
   "metadata": {},
   "source": [
    "- Leer el fichero CSV y guardarlo en un dataframe"
   ]
  },
  {
   "cell_type": "code",
   "execution_count": 2,
   "metadata": {},
   "outputs": [],
   "source": [
    "'''\n",
    "dir_path = \"//home/rchamac/Escritorio/gitRafa/SBD/T2.1/\"\n",
    "dfCoruna = pd.read_csv(dir_path + \"coruna.csv\")\n",
    "dfLugo = pd.read_csv(dir_path + \"lugo.csv\")\n",
    "dfOrense = pd.read_csv(dir_path + \"orense.csv\")\n",
    "dfPontevedra = pd.read_csv(dir_path + \"pontevedra.csv\")\n",
    "'''\n",
    "dfCoruna = pd.read_csv(\"coruna.csv\")\n",
    "dfLugo = pd.read_csv(\"lugo.csv\")\n",
    "dfOrense = pd.read_csv(\"orense.csv\")\n",
    "dfPontevedra = pd.read_csv(\"pontevedra.csv\")"
   ]
  },
  {
   "cell_type": "markdown",
   "metadata": {},
   "source": [
    "- Carga las variables en la variable df \n",
    "- Mostrar el dataframe"
   ]
  },
  {
   "cell_type": "code",
   "execution_count": 3,
   "metadata": {},
   "outputs": [
    {
     "data": {
      "text/html": [
       "<div>\n",
       "<style scoped>\n",
       "    .dataframe tbody tr th:only-of-type {\n",
       "        vertical-align: middle;\n",
       "    }\n",
       "\n",
       "    .dataframe tbody tr th {\n",
       "        vertical-align: top;\n",
       "    }\n",
       "\n",
       "    .dataframe thead th {\n",
       "        text-align: right;\n",
       "    }\n",
       "</style>\n",
       "<table border=\"1\" class=\"dataframe\">\n",
       "  <thead>\n",
       "    <tr style=\"text-align: right;\">\n",
       "      <th></th>\n",
       "      <th>Código</th>\n",
       "      <th>Nome</th>\n",
       "      <th>Enderezo</th>\n",
       "      <th>Concello</th>\n",
       "      <th>Provincia</th>\n",
       "      <th>Cód. postal</th>\n",
       "      <th>Teléfono</th>\n",
       "      <th>Tipo de centro</th>\n",
       "      <th>COORDENADA_X</th>\n",
       "      <th>COORDENADA_Y</th>\n",
       "      <th>TITULARIDADE</th>\n",
       "      <th>ENSINO_CONCERTADO</th>\n",
       "      <th>DEPENDENTE</th>\n",
       "    </tr>\n",
       "  </thead>\n",
       "  <tbody>\n",
       "    <tr>\n",
       "      <th>0</th>\n",
       "      <td>15000016</td>\n",
       "      <td>CEIP Plurilingüe San Marcos</td>\n",
       "      <td>Campo da Feira s/n</td>\n",
       "      <td>Abegondo</td>\n",
       "      <td>A Coruña</td>\n",
       "      <td>15318.0</td>\n",
       "      <td>881880201</td>\n",
       "      <td>CEIP</td>\n",
       "      <td>43.229183</td>\n",
       "      <td>-8.286580</td>\n",
       "      <td>Pública</td>\n",
       "      <td>Non</td>\n",
       "      <td>Si</td>\n",
       "    </tr>\n",
       "    <tr>\n",
       "      <th>1</th>\n",
       "      <td>15000107</td>\n",
       "      <td>CEIP A Maía</td>\n",
       "      <td>Rúa Peregrina, s/n (Bertamiráns)</td>\n",
       "      <td>Ames</td>\n",
       "      <td>A Coruña</td>\n",
       "      <td>15220.0</td>\n",
       "      <td>881866002</td>\n",
       "      <td>CEIP</td>\n",
       "      <td>42.867485</td>\n",
       "      <td>-8.657342</td>\n",
       "      <td>Pública</td>\n",
       "      <td>Non</td>\n",
       "      <td>Si</td>\n",
       "    </tr>\n",
       "    <tr>\n",
       "      <th>2</th>\n",
       "      <td>15000132</td>\n",
       "      <td>CPR Plurilingüe Alca</td>\n",
       "      <td>Lugar Biduído de Arriba 36</td>\n",
       "      <td>Ames</td>\n",
       "      <td>A Coruña</td>\n",
       "      <td>15895.0</td>\n",
       "      <td>981531103</td>\n",
       "      <td>CPR</td>\n",
       "      <td>42.846325</td>\n",
       "      <td>-8.600729</td>\n",
       "      <td>Privada</td>\n",
       "      <td>Si</td>\n",
       "      <td>Non</td>\n",
       "    </tr>\n",
       "    <tr>\n",
       "      <th>3</th>\n",
       "      <td>15000338</td>\n",
       "      <td>CPI As Mirandas</td>\n",
       "      <td>Avenida Celso Emilio Ferreiro 4</td>\n",
       "      <td>Ares</td>\n",
       "      <td>A Coruña</td>\n",
       "      <td>15624.0</td>\n",
       "      <td>881930020</td>\n",
       "      <td>CPI</td>\n",
       "      <td>43.429363</td>\n",
       "      <td>-8.246173</td>\n",
       "      <td>Pública</td>\n",
       "      <td>Non</td>\n",
       "      <td>Si</td>\n",
       "    </tr>\n",
       "    <tr>\n",
       "      <th>4</th>\n",
       "      <td>15000363</td>\n",
       "      <td>CEIP Ponte dos Brozos</td>\n",
       "      <td>Avenida Arsenio Iglesias, 34 (Sabon)</td>\n",
       "      <td>Arteixo</td>\n",
       "      <td>A Coruña</td>\n",
       "      <td>15142.0</td>\n",
       "      <td>881960506</td>\n",
       "      <td>CEIP</td>\n",
       "      <td>43.306938</td>\n",
       "      <td>-8.510333</td>\n",
       "      <td>Pública</td>\n",
       "      <td>Non</td>\n",
       "      <td>Si</td>\n",
       "    </tr>\n",
       "    <tr>\n",
       "      <th>...</th>\n",
       "      <td>...</td>\n",
       "      <td>...</td>\n",
       "      <td>...</td>\n",
       "      <td>...</td>\n",
       "      <td>...</td>\n",
       "      <td>...</td>\n",
       "      <td>...</td>\n",
       "      <td>...</td>\n",
       "      <td>...</td>\n",
       "      <td>...</td>\n",
       "      <td>...</td>\n",
       "      <td>...</td>\n",
       "      <td>...</td>\n",
       "    </tr>\n",
       "    <tr>\n",
       "      <th>611</th>\n",
       "      <td>36025189</td>\n",
       "      <td>EMUSPR Escola de Música da Banda Unión Musical...</td>\n",
       "      <td>Lugar Lugar de Covas 14 B</td>\n",
       "      <td>Cerdedo-Cotobade</td>\n",
       "      <td>Pontevedra</td>\n",
       "      <td>36120.0</td>\n",
       "      <td>NaN</td>\n",
       "      <td>EMUSPR</td>\n",
       "      <td>-13.488744</td>\n",
       "      <td>0.000000</td>\n",
       "      <td>Privada</td>\n",
       "      <td>Non</td>\n",
       "      <td>Non</td>\n",
       "    </tr>\n",
       "    <tr>\n",
       "      <th>612</th>\n",
       "      <td>36025190</td>\n",
       "      <td>EMUSPR Escola da Banda de Música Popular de Tui</td>\n",
       "      <td>Lugar Gándara s/n</td>\n",
       "      <td>Tui</td>\n",
       "      <td>Pontevedra</td>\n",
       "      <td>36720.0</td>\n",
       "      <td>NaN</td>\n",
       "      <td>EMUSPR</td>\n",
       "      <td>-8.623660</td>\n",
       "      <td>42.076248</td>\n",
       "      <td>Privada</td>\n",
       "      <td>Non</td>\n",
       "      <td>Non</td>\n",
       "    </tr>\n",
       "    <tr>\n",
       "      <th>613</th>\n",
       "      <td>36025207</td>\n",
       "      <td>EMUSPR Escola de Música Lira de San Miguel de Oia</td>\n",
       "      <td>Camiño de Currás 34</td>\n",
       "      <td>Vigo</td>\n",
       "      <td>Pontevedra</td>\n",
       "      <td>36390.0</td>\n",
       "      <td>NaN</td>\n",
       "      <td>EMUSPR</td>\n",
       "      <td>-13.488744</td>\n",
       "      <td>0.000000</td>\n",
       "      <td>Privada</td>\n",
       "      <td>Non</td>\n",
       "      <td>Non</td>\n",
       "    </tr>\n",
       "    <tr>\n",
       "      <th>614</th>\n",
       "      <td>36025219</td>\n",
       "      <td>Cen. Pub. Escola de Canteiros de Poio</td>\n",
       "      <td>Rúa Illa do Santo 2</td>\n",
       "      <td>Poio</td>\n",
       "      <td>Pontevedra</td>\n",
       "      <td>36005.0</td>\n",
       "      <td>NaN</td>\n",
       "      <td>Cen. Pub.</td>\n",
       "      <td>-8.663683</td>\n",
       "      <td>42.440247</td>\n",
       "      <td>Pública</td>\n",
       "      <td>Non</td>\n",
       "      <td>Si</td>\n",
       "    </tr>\n",
       "    <tr>\n",
       "      <th>615</th>\n",
       "      <td>36025220</td>\n",
       "      <td>CAD FDYE-Galicia</td>\n",
       "      <td>Avenida das Camelias 53</td>\n",
       "      <td>Vigo</td>\n",
       "      <td>Pontevedra</td>\n",
       "      <td>36211.0</td>\n",
       "      <td>680831166</td>\n",
       "      <td>CAD</td>\n",
       "      <td>-8.729750</td>\n",
       "      <td>42.229722</td>\n",
       "      <td>Privada</td>\n",
       "      <td>Non</td>\n",
       "      <td>Non</td>\n",
       "    </tr>\n",
       "  </tbody>\n",
       "</table>\n",
       "<p>1641 rows × 13 columns</p>\n",
       "</div>"
      ],
      "text/plain": [
       "       Código                                               Nome  \\\n",
       "0    15000016                        CEIP Plurilingüe San Marcos   \n",
       "1    15000107                                        CEIP A Maía   \n",
       "2    15000132                               CPR Plurilingüe Alca   \n",
       "3    15000338                                    CPI As Mirandas   \n",
       "4    15000363                              CEIP Ponte dos Brozos   \n",
       "..        ...                                                ...   \n",
       "611  36025189  EMUSPR Escola de Música da Banda Unión Musical...   \n",
       "612  36025190    EMUSPR Escola da Banda de Música Popular de Tui   \n",
       "613  36025207  EMUSPR Escola de Música Lira de San Miguel de Oia   \n",
       "614  36025219              Cen. Pub. Escola de Canteiros de Poio   \n",
       "615  36025220                                   CAD FDYE-Galicia   \n",
       "\n",
       "                                 Enderezo          Concello   Provincia  \\\n",
       "0                      Campo da Feira s/n          Abegondo    A Coruña   \n",
       "1        Rúa Peregrina, s/n (Bertamiráns)              Ames    A Coruña   \n",
       "2              Lugar Biduído de Arriba 36              Ames    A Coruña   \n",
       "3         Avenida Celso Emilio Ferreiro 4              Ares    A Coruña   \n",
       "4    Avenida Arsenio Iglesias, 34 (Sabon)           Arteixo    A Coruña   \n",
       "..                                    ...               ...         ...   \n",
       "611             Lugar Lugar de Covas 14 B  Cerdedo-Cotobade  Pontevedra   \n",
       "612                     Lugar Gándara s/n               Tui  Pontevedra   \n",
       "613                   Camiño de Currás 34              Vigo  Pontevedra   \n",
       "614                   Rúa Illa do Santo 2              Poio  Pontevedra   \n",
       "615               Avenida das Camelias 53              Vigo  Pontevedra   \n",
       "\n",
       "     Cód. postal   Teléfono Tipo de centro  COORDENADA_X  COORDENADA_Y  \\\n",
       "0        15318.0  881880201           CEIP     43.229183     -8.286580   \n",
       "1        15220.0  881866002           CEIP     42.867485     -8.657342   \n",
       "2        15895.0  981531103            CPR     42.846325     -8.600729   \n",
       "3        15624.0  881930020            CPI     43.429363     -8.246173   \n",
       "4        15142.0  881960506           CEIP     43.306938     -8.510333   \n",
       "..           ...        ...            ...           ...           ...   \n",
       "611      36120.0        NaN         EMUSPR    -13.488744      0.000000   \n",
       "612      36720.0        NaN         EMUSPR     -8.623660     42.076248   \n",
       "613      36390.0        NaN         EMUSPR    -13.488744      0.000000   \n",
       "614      36005.0        NaN      Cen. Pub.     -8.663683     42.440247   \n",
       "615      36211.0  680831166            CAD     -8.729750     42.229722   \n",
       "\n",
       "    TITULARIDADE ENSINO_CONCERTADO DEPENDENTE  \n",
       "0        Pública               Non         Si  \n",
       "1        Pública               Non         Si  \n",
       "2        Privada                Si        Non  \n",
       "3        Pública               Non         Si  \n",
       "4        Pública               Non         Si  \n",
       "..           ...               ...        ...  \n",
       "611      Privada               Non        Non  \n",
       "612      Privada               Non        Non  \n",
       "613      Privada               Non        Non  \n",
       "614      Pública               Non         Si  \n",
       "615      Privada               Non        Non  \n",
       "\n",
       "[1641 rows x 13 columns]"
      ]
     },
     "execution_count": 3,
     "metadata": {},
     "output_type": "execute_result"
    }
   ],
   "source": [
    "df = pd.concat([dfCoruna,dfLugo,dfOrense,dfPontevedra])\n",
    "df"
   ]
  },
  {
   "cell_type": "markdown",
   "metadata": {},
   "source": [
    "- Muestra las primeras líneas del dataframe"
   ]
  },
  {
   "cell_type": "code",
   "execution_count": 4,
   "metadata": {},
   "outputs": [
    {
     "data": {
      "text/html": [
       "<div>\n",
       "<style scoped>\n",
       "    .dataframe tbody tr th:only-of-type {\n",
       "        vertical-align: middle;\n",
       "    }\n",
       "\n",
       "    .dataframe tbody tr th {\n",
       "        vertical-align: top;\n",
       "    }\n",
       "\n",
       "    .dataframe thead th {\n",
       "        text-align: right;\n",
       "    }\n",
       "</style>\n",
       "<table border=\"1\" class=\"dataframe\">\n",
       "  <thead>\n",
       "    <tr style=\"text-align: right;\">\n",
       "      <th></th>\n",
       "      <th>Código</th>\n",
       "      <th>Nome</th>\n",
       "      <th>Enderezo</th>\n",
       "      <th>Concello</th>\n",
       "      <th>Provincia</th>\n",
       "      <th>Cód. postal</th>\n",
       "      <th>Teléfono</th>\n",
       "      <th>Tipo de centro</th>\n",
       "      <th>COORDENADA_X</th>\n",
       "      <th>COORDENADA_Y</th>\n",
       "      <th>TITULARIDADE</th>\n",
       "      <th>ENSINO_CONCERTADO</th>\n",
       "      <th>DEPENDENTE</th>\n",
       "    </tr>\n",
       "  </thead>\n",
       "  <tbody>\n",
       "    <tr>\n",
       "      <th>0</th>\n",
       "      <td>15000016</td>\n",
       "      <td>CEIP Plurilingüe San Marcos</td>\n",
       "      <td>Campo da Feira s/n</td>\n",
       "      <td>Abegondo</td>\n",
       "      <td>A Coruña</td>\n",
       "      <td>15318.0</td>\n",
       "      <td>881880201</td>\n",
       "      <td>CEIP</td>\n",
       "      <td>43.229183</td>\n",
       "      <td>-8.286580</td>\n",
       "      <td>Pública</td>\n",
       "      <td>Non</td>\n",
       "      <td>Si</td>\n",
       "    </tr>\n",
       "    <tr>\n",
       "      <th>1</th>\n",
       "      <td>15000107</td>\n",
       "      <td>CEIP A Maía</td>\n",
       "      <td>Rúa Peregrina, s/n (Bertamiráns)</td>\n",
       "      <td>Ames</td>\n",
       "      <td>A Coruña</td>\n",
       "      <td>15220.0</td>\n",
       "      <td>881866002</td>\n",
       "      <td>CEIP</td>\n",
       "      <td>42.867485</td>\n",
       "      <td>-8.657342</td>\n",
       "      <td>Pública</td>\n",
       "      <td>Non</td>\n",
       "      <td>Si</td>\n",
       "    </tr>\n",
       "    <tr>\n",
       "      <th>2</th>\n",
       "      <td>15000132</td>\n",
       "      <td>CPR Plurilingüe Alca</td>\n",
       "      <td>Lugar Biduído de Arriba 36</td>\n",
       "      <td>Ames</td>\n",
       "      <td>A Coruña</td>\n",
       "      <td>15895.0</td>\n",
       "      <td>981531103</td>\n",
       "      <td>CPR</td>\n",
       "      <td>42.846325</td>\n",
       "      <td>-8.600729</td>\n",
       "      <td>Privada</td>\n",
       "      <td>Si</td>\n",
       "      <td>Non</td>\n",
       "    </tr>\n",
       "    <tr>\n",
       "      <th>3</th>\n",
       "      <td>15000338</td>\n",
       "      <td>CPI As Mirandas</td>\n",
       "      <td>Avenida Celso Emilio Ferreiro 4</td>\n",
       "      <td>Ares</td>\n",
       "      <td>A Coruña</td>\n",
       "      <td>15624.0</td>\n",
       "      <td>881930020</td>\n",
       "      <td>CPI</td>\n",
       "      <td>43.429363</td>\n",
       "      <td>-8.246173</td>\n",
       "      <td>Pública</td>\n",
       "      <td>Non</td>\n",
       "      <td>Si</td>\n",
       "    </tr>\n",
       "    <tr>\n",
       "      <th>4</th>\n",
       "      <td>15000363</td>\n",
       "      <td>CEIP Ponte dos Brozos</td>\n",
       "      <td>Avenida Arsenio Iglesias, 34 (Sabon)</td>\n",
       "      <td>Arteixo</td>\n",
       "      <td>A Coruña</td>\n",
       "      <td>15142.0</td>\n",
       "      <td>881960506</td>\n",
       "      <td>CEIP</td>\n",
       "      <td>43.306938</td>\n",
       "      <td>-8.510333</td>\n",
       "      <td>Pública</td>\n",
       "      <td>Non</td>\n",
       "      <td>Si</td>\n",
       "    </tr>\n",
       "  </tbody>\n",
       "</table>\n",
       "</div>"
      ],
      "text/plain": [
       "     Código                         Nome  \\\n",
       "0  15000016  CEIP Plurilingüe San Marcos   \n",
       "1  15000107                  CEIP A Maía   \n",
       "2  15000132         CPR Plurilingüe Alca   \n",
       "3  15000338              CPI As Mirandas   \n",
       "4  15000363        CEIP Ponte dos Brozos   \n",
       "\n",
       "                               Enderezo  Concello Provincia  Cód. postal  \\\n",
       "0                    Campo da Feira s/n  Abegondo  A Coruña      15318.0   \n",
       "1      Rúa Peregrina, s/n (Bertamiráns)      Ames  A Coruña      15220.0   \n",
       "2            Lugar Biduído de Arriba 36      Ames  A Coruña      15895.0   \n",
       "3       Avenida Celso Emilio Ferreiro 4      Ares  A Coruña      15624.0   \n",
       "4  Avenida Arsenio Iglesias, 34 (Sabon)   Arteixo  A Coruña      15142.0   \n",
       "\n",
       "    Teléfono Tipo de centro  COORDENADA_X  COORDENADA_Y TITULARIDADE  \\\n",
       "0  881880201           CEIP     43.229183     -8.286580      Pública   \n",
       "1  881866002           CEIP     42.867485     -8.657342      Pública   \n",
       "2  981531103            CPR     42.846325     -8.600729      Privada   \n",
       "3  881930020            CPI     43.429363     -8.246173      Pública   \n",
       "4  881960506           CEIP     43.306938     -8.510333      Pública   \n",
       "\n",
       "  ENSINO_CONCERTADO DEPENDENTE  \n",
       "0               Non         Si  \n",
       "1               Non         Si  \n",
       "2                Si        Non  \n",
       "3               Non         Si  \n",
       "4               Non         Si  "
      ]
     },
     "execution_count": 4,
     "metadata": {},
     "output_type": "execute_result"
    }
   ],
   "source": [
    "df.head()"
   ]
  },
  {
   "cell_type": "markdown",
   "metadata": {},
   "source": [
    "- Muestra las últimas filas del dataframe"
   ]
  },
  {
   "cell_type": "code",
   "execution_count": 5,
   "metadata": {},
   "outputs": [
    {
     "data": {
      "text/html": [
       "<div>\n",
       "<style scoped>\n",
       "    .dataframe tbody tr th:only-of-type {\n",
       "        vertical-align: middle;\n",
       "    }\n",
       "\n",
       "    .dataframe tbody tr th {\n",
       "        vertical-align: top;\n",
       "    }\n",
       "\n",
       "    .dataframe thead th {\n",
       "        text-align: right;\n",
       "    }\n",
       "</style>\n",
       "<table border=\"1\" class=\"dataframe\">\n",
       "  <thead>\n",
       "    <tr style=\"text-align: right;\">\n",
       "      <th></th>\n",
       "      <th>Código</th>\n",
       "      <th>Nome</th>\n",
       "      <th>Enderezo</th>\n",
       "      <th>Concello</th>\n",
       "      <th>Provincia</th>\n",
       "      <th>Cód. postal</th>\n",
       "      <th>Teléfono</th>\n",
       "      <th>Tipo de centro</th>\n",
       "      <th>COORDENADA_X</th>\n",
       "      <th>COORDENADA_Y</th>\n",
       "      <th>TITULARIDADE</th>\n",
       "      <th>ENSINO_CONCERTADO</th>\n",
       "      <th>DEPENDENTE</th>\n",
       "    </tr>\n",
       "  </thead>\n",
       "  <tbody>\n",
       "    <tr>\n",
       "      <th>611</th>\n",
       "      <td>36025189</td>\n",
       "      <td>EMUSPR Escola de Música da Banda Unión Musical...</td>\n",
       "      <td>Lugar Lugar de Covas 14 B</td>\n",
       "      <td>Cerdedo-Cotobade</td>\n",
       "      <td>Pontevedra</td>\n",
       "      <td>36120.0</td>\n",
       "      <td>NaN</td>\n",
       "      <td>EMUSPR</td>\n",
       "      <td>-13.488744</td>\n",
       "      <td>0.000000</td>\n",
       "      <td>Privada</td>\n",
       "      <td>Non</td>\n",
       "      <td>Non</td>\n",
       "    </tr>\n",
       "    <tr>\n",
       "      <th>612</th>\n",
       "      <td>36025190</td>\n",
       "      <td>EMUSPR Escola da Banda de Música Popular de Tui</td>\n",
       "      <td>Lugar Gándara s/n</td>\n",
       "      <td>Tui</td>\n",
       "      <td>Pontevedra</td>\n",
       "      <td>36720.0</td>\n",
       "      <td>NaN</td>\n",
       "      <td>EMUSPR</td>\n",
       "      <td>-8.623660</td>\n",
       "      <td>42.076248</td>\n",
       "      <td>Privada</td>\n",
       "      <td>Non</td>\n",
       "      <td>Non</td>\n",
       "    </tr>\n",
       "    <tr>\n",
       "      <th>613</th>\n",
       "      <td>36025207</td>\n",
       "      <td>EMUSPR Escola de Música Lira de San Miguel de Oia</td>\n",
       "      <td>Camiño de Currás 34</td>\n",
       "      <td>Vigo</td>\n",
       "      <td>Pontevedra</td>\n",
       "      <td>36390.0</td>\n",
       "      <td>NaN</td>\n",
       "      <td>EMUSPR</td>\n",
       "      <td>-13.488744</td>\n",
       "      <td>0.000000</td>\n",
       "      <td>Privada</td>\n",
       "      <td>Non</td>\n",
       "      <td>Non</td>\n",
       "    </tr>\n",
       "    <tr>\n",
       "      <th>614</th>\n",
       "      <td>36025219</td>\n",
       "      <td>Cen. Pub. Escola de Canteiros de Poio</td>\n",
       "      <td>Rúa Illa do Santo 2</td>\n",
       "      <td>Poio</td>\n",
       "      <td>Pontevedra</td>\n",
       "      <td>36005.0</td>\n",
       "      <td>NaN</td>\n",
       "      <td>Cen. Pub.</td>\n",
       "      <td>-8.663683</td>\n",
       "      <td>42.440247</td>\n",
       "      <td>Pública</td>\n",
       "      <td>Non</td>\n",
       "      <td>Si</td>\n",
       "    </tr>\n",
       "    <tr>\n",
       "      <th>615</th>\n",
       "      <td>36025220</td>\n",
       "      <td>CAD FDYE-Galicia</td>\n",
       "      <td>Avenida das Camelias 53</td>\n",
       "      <td>Vigo</td>\n",
       "      <td>Pontevedra</td>\n",
       "      <td>36211.0</td>\n",
       "      <td>680831166</td>\n",
       "      <td>CAD</td>\n",
       "      <td>-8.729750</td>\n",
       "      <td>42.229722</td>\n",
       "      <td>Privada</td>\n",
       "      <td>Non</td>\n",
       "      <td>Non</td>\n",
       "    </tr>\n",
       "  </tbody>\n",
       "</table>\n",
       "</div>"
      ],
      "text/plain": [
       "       Código                                               Nome  \\\n",
       "611  36025189  EMUSPR Escola de Música da Banda Unión Musical...   \n",
       "612  36025190    EMUSPR Escola da Banda de Música Popular de Tui   \n",
       "613  36025207  EMUSPR Escola de Música Lira de San Miguel de Oia   \n",
       "614  36025219              Cen. Pub. Escola de Canteiros de Poio   \n",
       "615  36025220                                   CAD FDYE-Galicia   \n",
       "\n",
       "                      Enderezo          Concello   Provincia  Cód. postal  \\\n",
       "611  Lugar Lugar de Covas 14 B  Cerdedo-Cotobade  Pontevedra      36120.0   \n",
       "612          Lugar Gándara s/n               Tui  Pontevedra      36720.0   \n",
       "613        Camiño de Currás 34              Vigo  Pontevedra      36390.0   \n",
       "614        Rúa Illa do Santo 2              Poio  Pontevedra      36005.0   \n",
       "615    Avenida das Camelias 53              Vigo  Pontevedra      36211.0   \n",
       "\n",
       "      Teléfono Tipo de centro  COORDENADA_X  COORDENADA_Y TITULARIDADE  \\\n",
       "611        NaN         EMUSPR    -13.488744      0.000000      Privada   \n",
       "612        NaN         EMUSPR     -8.623660     42.076248      Privada   \n",
       "613        NaN         EMUSPR    -13.488744      0.000000      Privada   \n",
       "614        NaN      Cen. Pub.     -8.663683     42.440247      Pública   \n",
       "615  680831166            CAD     -8.729750     42.229722      Privada   \n",
       "\n",
       "    ENSINO_CONCERTADO DEPENDENTE  \n",
       "611               Non        Non  \n",
       "612               Non        Non  \n",
       "613               Non        Non  \n",
       "614               Non         Si  \n",
       "615               Non        Non  "
      ]
     },
     "execution_count": 5,
     "metadata": {},
     "output_type": "execute_result"
    }
   ],
   "source": [
    "df.tail()"
   ]
  },
  {
   "cell_type": "markdown",
   "metadata": {},
   "source": [
    "- Muestra la 'forma' del dataframe (filas y columnas)"
   ]
  },
  {
   "cell_type": "code",
   "execution_count": 6,
   "metadata": {},
   "outputs": [
    {
     "data": {
      "text/plain": [
       "(1641, 13)"
      ]
     },
     "execution_count": 6,
     "metadata": {},
     "output_type": "execute_result"
    }
   ],
   "source": [
    "df.shape"
   ]
  },
  {
   "cell_type": "markdown",
   "metadata": {},
   "source": [
    "- Muestra datos estatísticos"
   ]
  },
  {
   "cell_type": "code",
   "execution_count": 7,
   "metadata": {},
   "outputs": [
    {
     "data": {
      "text/html": [
       "<div>\n",
       "<style scoped>\n",
       "    .dataframe tbody tr th:only-of-type {\n",
       "        vertical-align: middle;\n",
       "    }\n",
       "\n",
       "    .dataframe tbody tr th {\n",
       "        vertical-align: top;\n",
       "    }\n",
       "\n",
       "    .dataframe thead th {\n",
       "        text-align: right;\n",
       "    }\n",
       "</style>\n",
       "<table border=\"1\" class=\"dataframe\">\n",
       "  <thead>\n",
       "    <tr style=\"text-align: right;\">\n",
       "      <th></th>\n",
       "      <th>Código</th>\n",
       "      <th>Cód. postal</th>\n",
       "      <th>COORDENADA_X</th>\n",
       "      <th>COORDENADA_Y</th>\n",
       "    </tr>\n",
       "  </thead>\n",
       "  <tbody>\n",
       "    <tr>\n",
       "      <th>count</th>\n",
       "      <td>1.641000e+03</td>\n",
       "      <td>1640.000000</td>\n",
       "      <td>1641.000000</td>\n",
       "      <td>1641.000000</td>\n",
       "    </tr>\n",
       "    <tr>\n",
       "      <th>mean</th>\n",
       "      <td>2.656453e+07</td>\n",
       "      <td>26990.679268</td>\n",
       "      <td>39.940281</td>\n",
       "      <td>-5.742280</td>\n",
       "    </tr>\n",
       "    <tr>\n",
       "      <th>std</th>\n",
       "      <td>9.288248e+06</td>\n",
       "      <td>9306.468180</td>\n",
       "      <td>11.563759</td>\n",
       "      <td>11.133819</td>\n",
       "    </tr>\n",
       "    <tr>\n",
       "      <th>min</th>\n",
       "      <td>1.500002e+07</td>\n",
       "      <td>15001.000000</td>\n",
       "      <td>-13.488744</td>\n",
       "      <td>-9.269669</td>\n",
       "    </tr>\n",
       "    <tr>\n",
       "      <th>25%</th>\n",
       "      <td>1.502624e+07</td>\n",
       "      <td>15701.000000</td>\n",
       "      <td>42.241528</td>\n",
       "      <td>-8.701391</td>\n",
       "    </tr>\n",
       "    <tr>\n",
       "      <th>50%</th>\n",
       "      <td>2.702094e+07</td>\n",
       "      <td>27875.000000</td>\n",
       "      <td>42.587135</td>\n",
       "      <td>-8.425463</td>\n",
       "    </tr>\n",
       "    <tr>\n",
       "      <th>75%</th>\n",
       "      <td>3.601112e+07</td>\n",
       "      <td>36214.000000</td>\n",
       "      <td>43.108734</td>\n",
       "      <td>-7.862472</td>\n",
       "    </tr>\n",
       "    <tr>\n",
       "      <th>max</th>\n",
       "      <td>3.602522e+07</td>\n",
       "      <td>36995.000000</td>\n",
       "      <td>43.738419</td>\n",
       "      <td>43.741764</td>\n",
       "    </tr>\n",
       "  </tbody>\n",
       "</table>\n",
       "</div>"
      ],
      "text/plain": [
       "             Código   Cód. postal  COORDENADA_X  COORDENADA_Y\n",
       "count  1.641000e+03   1640.000000   1641.000000   1641.000000\n",
       "mean   2.656453e+07  26990.679268     39.940281     -5.742280\n",
       "std    9.288248e+06   9306.468180     11.563759     11.133819\n",
       "min    1.500002e+07  15001.000000    -13.488744     -9.269669\n",
       "25%    1.502624e+07  15701.000000     42.241528     -8.701391\n",
       "50%    2.702094e+07  27875.000000     42.587135     -8.425463\n",
       "75%    3.601112e+07  36214.000000     43.108734     -7.862472\n",
       "max    3.602522e+07  36995.000000     43.738419     43.741764"
      ]
     },
     "execution_count": 7,
     "metadata": {},
     "output_type": "execute_result"
    }
   ],
   "source": [
    "df.describe()"
   ]
  },
  {
   "cell_type": "markdown",
   "metadata": {},
   "source": [
    "- Seleccionar la columna 'Concello' como serie"
   ]
  },
  {
   "cell_type": "code",
   "execution_count": 8,
   "metadata": {},
   "outputs": [
    {
     "data": {
      "text/plain": [
       "pandas.core.series.Series"
      ]
     },
     "execution_count": 8,
     "metadata": {},
     "output_type": "execute_result"
    }
   ],
   "source": [
    "type(df['Concello'])"
   ]
  },
  {
   "cell_type": "markdown",
   "metadata": {},
   "source": [
    "- Otra forma de seleccionar Series:\n",
    "- Con type mostramos el tipo de selección   "
   ]
  },
  {
   "cell_type": "code",
   "execution_count": 9,
   "metadata": {},
   "outputs": [
    {
     "data": {
      "text/plain": [
       "pandas.core.series.Series"
      ]
     },
     "execution_count": 9,
     "metadata": {},
     "output_type": "execute_result"
    }
   ],
   "source": [
    "type(df.Concello)"
   ]
  },
  {
   "cell_type": "markdown",
   "metadata": {},
   "source": [
    "- Seleccionar la columna 'Nome' como dataframe"
   ]
  },
  {
   "cell_type": "code",
   "execution_count": 10,
   "metadata": {},
   "outputs": [
    {
     "data": {
      "text/plain": [
       "pandas.core.frame.DataFrame"
      ]
     },
     "execution_count": 10,
     "metadata": {},
     "output_type": "execute_result"
    }
   ],
   "source": [
    "type(df[['Nome']])\n"
   ]
  },
  {
   "cell_type": "markdown",
   "metadata": {},
   "source": [
    "- Seleccionar varias columnas 'Código' e 'Nome'"
   ]
  },
  {
   "cell_type": "code",
   "execution_count": 11,
   "metadata": {},
   "outputs": [
    {
     "data": {
      "text/html": [
       "<div>\n",
       "<style scoped>\n",
       "    .dataframe tbody tr th:only-of-type {\n",
       "        vertical-align: middle;\n",
       "    }\n",
       "\n",
       "    .dataframe tbody tr th {\n",
       "        vertical-align: top;\n",
       "    }\n",
       "\n",
       "    .dataframe thead th {\n",
       "        text-align: right;\n",
       "    }\n",
       "</style>\n",
       "<table border=\"1\" class=\"dataframe\">\n",
       "  <thead>\n",
       "    <tr style=\"text-align: right;\">\n",
       "      <th></th>\n",
       "      <th>Código</th>\n",
       "      <th>Nome</th>\n",
       "    </tr>\n",
       "  </thead>\n",
       "  <tbody>\n",
       "    <tr>\n",
       "      <th>0</th>\n",
       "      <td>15000016</td>\n",
       "      <td>CEIP Plurilingüe San Marcos</td>\n",
       "    </tr>\n",
       "    <tr>\n",
       "      <th>1</th>\n",
       "      <td>15000107</td>\n",
       "      <td>CEIP A Maía</td>\n",
       "    </tr>\n",
       "    <tr>\n",
       "      <th>2</th>\n",
       "      <td>15000132</td>\n",
       "      <td>CPR Plurilingüe Alca</td>\n",
       "    </tr>\n",
       "    <tr>\n",
       "      <th>3</th>\n",
       "      <td>15000338</td>\n",
       "      <td>CPI As Mirandas</td>\n",
       "    </tr>\n",
       "    <tr>\n",
       "      <th>4</th>\n",
       "      <td>15000363</td>\n",
       "      <td>CEIP Ponte dos Brozos</td>\n",
       "    </tr>\n",
       "    <tr>\n",
       "      <th>...</th>\n",
       "      <td>...</td>\n",
       "      <td>...</td>\n",
       "    </tr>\n",
       "    <tr>\n",
       "      <th>611</th>\n",
       "      <td>36025189</td>\n",
       "      <td>EMUSPR Escola de Música da Banda Unión Musical...</td>\n",
       "    </tr>\n",
       "    <tr>\n",
       "      <th>612</th>\n",
       "      <td>36025190</td>\n",
       "      <td>EMUSPR Escola da Banda de Música Popular de Tui</td>\n",
       "    </tr>\n",
       "    <tr>\n",
       "      <th>613</th>\n",
       "      <td>36025207</td>\n",
       "      <td>EMUSPR Escola de Música Lira de San Miguel de Oia</td>\n",
       "    </tr>\n",
       "    <tr>\n",
       "      <th>614</th>\n",
       "      <td>36025219</td>\n",
       "      <td>Cen. Pub. Escola de Canteiros de Poio</td>\n",
       "    </tr>\n",
       "    <tr>\n",
       "      <th>615</th>\n",
       "      <td>36025220</td>\n",
       "      <td>CAD FDYE-Galicia</td>\n",
       "    </tr>\n",
       "  </tbody>\n",
       "</table>\n",
       "<p>1641 rows × 2 columns</p>\n",
       "</div>"
      ],
      "text/plain": [
       "       Código                                               Nome\n",
       "0    15000016                        CEIP Plurilingüe San Marcos\n",
       "1    15000107                                        CEIP A Maía\n",
       "2    15000132                               CPR Plurilingüe Alca\n",
       "3    15000338                                    CPI As Mirandas\n",
       "4    15000363                              CEIP Ponte dos Brozos\n",
       "..        ...                                                ...\n",
       "611  36025189  EMUSPR Escola de Música da Banda Unión Musical...\n",
       "612  36025190    EMUSPR Escola da Banda de Música Popular de Tui\n",
       "613  36025207  EMUSPR Escola de Música Lira de San Miguel de Oia\n",
       "614  36025219              Cen. Pub. Escola de Canteiros de Poio\n",
       "615  36025220                                   CAD FDYE-Galicia\n",
       "\n",
       "[1641 rows x 2 columns]"
      ]
     },
     "execution_count": 11,
     "metadata": {},
     "output_type": "execute_result"
    }
   ],
   "source": [
    "df[['Código','Nome']]"
   ]
  },
  {
   "cell_type": "markdown",
   "metadata": {},
   "source": [
    "- Mirar el tipo de resultado"
   ]
  },
  {
   "cell_type": "code",
   "execution_count": 12,
   "metadata": {},
   "outputs": [
    {
     "data": {
      "text/plain": [
       "pandas.core.frame.DataFrame"
      ]
     },
     "execution_count": 12,
     "metadata": {},
     "output_type": "execute_result"
    }
   ],
   "source": [
    "type(df[['Código','Nome']])"
   ]
  },
  {
   "cell_type": "markdown",
   "metadata": {},
   "source": [
    "- Mirar el tipo de argumento que le pasas a df para hacer la selección"
   ]
  },
  {
   "cell_type": "code",
   "execution_count": 13,
   "metadata": {},
   "outputs": [
    {
     "data": {
      "text/plain": [
       "list"
      ]
     },
     "execution_count": 13,
     "metadata": {},
     "output_type": "execute_result"
    }
   ],
   "source": [
    "type(['Código','Nome'])"
   ]
  },
  {
   "cell_type": "markdown",
   "metadata": {},
   "source": [
    "### Seleccionar centros que sean de titularidad privada. ¿Cuántos hay?"
   ]
  },
  {
   "cell_type": "code",
   "execution_count": 14,
   "metadata": {},
   "outputs": [
    {
     "data": {
      "text/plain": [
       "424"
      ]
     },
     "execution_count": 14,
     "metadata": {},
     "output_type": "execute_result"
    }
   ],
   "source": [
    "df[df['TITULARIDADE']==\"Privada\"]\n",
    "df[df['TITULARIDADE']==\"Privada\"].shape[0]\n"
   ]
  },
  {
   "cell_type": "markdown",
   "metadata": {},
   "source": [
    "### Seleccionar centros que tengan enseñanza concertada. ¿Cuántos hay?"
   ]
  },
  {
   "cell_type": "code",
   "execution_count": 15,
   "metadata": {},
   "outputs": [
    {
     "data": {
      "text/plain": [
       "228"
      ]
     },
     "execution_count": 15,
     "metadata": {},
     "output_type": "execute_result"
    }
   ],
   "source": [
    "df[df['ENSINO_CONCERTADO']=='Si']\n",
    "df[df['ENSINO_CONCERTADO']=='Si'].shape[0]"
   ]
  },
  {
   "cell_type": "markdown",
   "metadata": {},
   "source": [
    "### ¿Hay algún centro con enseñanza concertad y dependiente de la Consellería?\n"
   ]
  },
  {
   "cell_type": "code",
   "execution_count": 16,
   "metadata": {},
   "outputs": [
    {
     "data": {
      "text/plain": [
       "0"
      ]
     },
     "execution_count": 16,
     "metadata": {},
     "output_type": "execute_result"
    }
   ],
   "source": [
    "df[(df['ENSINO_CONCERTADO']=='Si') & (df['DEPENDENTE']=='SI')]\n",
    "df[(df['ENSINO_CONCERTADO']=='Si') & (df['DEPENDENTE']=='SI')].shape[0]\n"
   ]
  },
  {
   "cell_type": "markdown",
   "metadata": {},
   "source": [
    "### Seleccionar centros de titularidad pública de Coruña. ¿Cuántos hay?"
   ]
  },
  {
   "cell_type": "code",
   "execution_count": 17,
   "metadata": {},
   "outputs": [
    {
     "data": {
      "text/plain": [
       "454"
      ]
     },
     "execution_count": 17,
     "metadata": {},
     "output_type": "execute_result"
    }
   ],
   "source": [
    "# Aprovechamos que tenemos el dataframe dfCoruna con los datos de Coruña\n",
    "dfCoruna[dfCoruna['TITULARIDADE']=='Pública']\n",
    "dfCoruna[dfCoruna['TITULARIDADE']=='Pública'].shape[0]"
   ]
  },
  {
   "cell_type": "markdown",
   "metadata": {},
   "source": [
    "### Seleccionar centros de titularidad pública de Lugo. ¿Cuántos hay?"
   ]
  },
  {
   "cell_type": "code",
   "execution_count": 18,
   "metadata": {},
   "outputs": [
    {
     "data": {
      "text/plain": [
       "184"
      ]
     },
     "execution_count": 18,
     "metadata": {},
     "output_type": "execute_result"
    }
   ],
   "source": [
    "dfLugo[dfLugo['TITULARIDADE']=='Pública']\n",
    "dfLugo[dfLugo['TITULARIDADE']=='Pública'].shape[0]"
   ]
  },
  {
   "cell_type": "markdown",
   "metadata": {},
   "source": [
    "### Seleccionar centros de titularidad pública de Ourense. ¿Cuántos hay?\n"
   ]
  },
  {
   "cell_type": "code",
   "execution_count": 19,
   "metadata": {},
   "outputs": [
    {
     "data": {
      "text/plain": [
       "148"
      ]
     },
     "execution_count": 19,
     "metadata": {},
     "output_type": "execute_result"
    }
   ],
   "source": [
    "dfOrense[dfOrense['TITULARIDADE']=='Pública']\n",
    "dfOrense[dfOrense['TITULARIDADE']=='Pública'].shape[0]"
   ]
  },
  {
   "cell_type": "markdown",
   "metadata": {},
   "source": [
    "### Seleccionar centros de titularidad pública de Pontevedra. Cuántos hay?\n"
   ]
  },
  {
   "cell_type": "code",
   "execution_count": 20,
   "metadata": {},
   "outputs": [
    {
     "data": {
      "text/plain": [
       "431"
      ]
     },
     "execution_count": 20,
     "metadata": {},
     "output_type": "execute_result"
    }
   ],
   "source": [
    "dfPontevedra[dfPontevedra['TITULARIDADE']=='Pública']\n",
    "dfPontevedra[dfPontevedra['TITULARIDADE']=='Pública'].shape[0]"
   ]
  },
  {
   "cell_type": "markdown",
   "metadata": {},
   "source": [
    "### Seleccionar centros de tipo: CIFP de cada una de las catro provincias. Cuántos hay?\n"
   ]
  },
  {
   "cell_type": "code",
   "execution_count": 21,
   "metadata": {},
   "outputs": [
    {
     "data": {
      "text/plain": [
       "30"
      ]
     },
     "execution_count": 21,
     "metadata": {},
     "output_type": "execute_result"
    }
   ],
   "source": [
    "# Para el total:\n",
    "df[df['Tipo de centro']=='CIFP']\n",
    "df[df['Tipo de centro']=='CIFP'].shape[0]\n"
   ]
  },
  {
   "cell_type": "markdown",
   "metadata": {},
   "source": [
    "- Coruña"
   ]
  },
  {
   "cell_type": "code",
   "execution_count": 22,
   "metadata": {},
   "outputs": [
    {
     "data": {
      "text/plain": [
       "13"
      ]
     },
     "execution_count": 22,
     "metadata": {},
     "output_type": "execute_result"
    }
   ],
   "source": [
    "dfCoruna[dfCoruna['Tipo de centro']=='CIFP']\n",
    "dfCoruna[dfCoruna['Tipo de centro']=='CIFP'].shape[0]"
   ]
  },
  {
   "cell_type": "markdown",
   "metadata": {},
   "source": [
    "- Lugo"
   ]
  },
  {
   "cell_type": "code",
   "execution_count": 23,
   "metadata": {},
   "outputs": [
    {
     "data": {
      "text/plain": [
       "3"
      ]
     },
     "execution_count": 23,
     "metadata": {},
     "output_type": "execute_result"
    }
   ],
   "source": [
    "dfLugo[dfLugo['Tipo de centro']=='CIFP']\n",
    "dfLugo[dfLugo['Tipo de centro']=='CIFP'].shape[0]"
   ]
  },
  {
   "cell_type": "markdown",
   "metadata": {},
   "source": [
    "- Orense"
   ]
  },
  {
   "cell_type": "code",
   "execution_count": 24,
   "metadata": {},
   "outputs": [
    {
     "data": {
      "text/plain": [
       "5"
      ]
     },
     "execution_count": 24,
     "metadata": {},
     "output_type": "execute_result"
    }
   ],
   "source": [
    "dfOrense[dfOrense['Tipo de centro']=='CIFP']\n",
    "dfOrense[dfOrense['Tipo de centro']=='CIFP'].shape[0]\n"
   ]
  },
  {
   "cell_type": "markdown",
   "metadata": {},
   "source": [
    "- Pontevedra\n"
   ]
  },
  {
   "cell_type": "code",
   "execution_count": 25,
   "metadata": {},
   "outputs": [
    {
     "data": {
      "text/plain": [
       "9"
      ]
     },
     "execution_count": 25,
     "metadata": {},
     "output_type": "execute_result"
    }
   ],
   "source": [
    "dfPontevedra[dfPontevedra['Tipo de centro']=='CIFP']\n",
    "dfPontevedra[dfPontevedra['Tipo de centro']=='CIFP'].shape[0]"
   ]
  },
  {
   "cell_type": "markdown",
   "metadata": {},
   "source": [
    "### Seleccionar centros de tipo: CPI, CEIP e IES de cada una de las cuatro provincias. ¿Cuantos hay?\n"
   ]
  },
  {
   "cell_type": "code",
   "execution_count": 26,
   "metadata": {},
   "outputs": [
    {
     "data": {
      "text/plain": [
       "298"
      ]
     },
     "execution_count": 26,
     "metadata": {},
     "output_type": "execute_result"
    }
   ],
   "source": [
    "#Total:\n",
    "df[(df['Tipo de centro']=='CPI') | (df['Tipo de centro']=='CEIP') | (df['Tipo de centro']=='IES')]\n",
    "df[(df['Tipo de centro']=='CPI') | (df['Tipo de centro']=='CEIP') | (df['Tipo de centro']=='IES')].shape[0]\n",
    "\n",
    "#Por provincias\n",
    "#df[(df['Tipo de centro'] == 'CPI') | (df['Tipo de centro'] == 'CEIP') | (df['Tipo de centro'] == 'IES')].groupby(['Provincia', 'Tipo de centro']).size()\n",
    "dfCoruna[(dfCoruna['Tipo de centro']=='CPI') | (dfCoruna['Tipo de centro']=='CEIP') | (dfCoruna['Tipo de centro']=='IES')].shape[0]\n",
    "dfLugo[(dfLugo['Tipo de centro']=='CPI') | (dfLugo['Tipo de centro']=='CEIP') | (dfLugo['Tipo de centro']=='IES')].shape[0]\n",
    "dfOrense[(dfOrense['Tipo de centro']=='CPI') | (dfOrense['Tipo de centro']=='CEIP') | (dfOrense['Tipo de centro']=='IES')].shape[0]\n",
    "dfPontevedra[(dfPontevedra['Tipo de centro']=='CPI') | (dfPontevedra['Tipo de centro']=='CEIP') | (dfPontevedra['Tipo de centro']=='IES')].shape[0]"
   ]
  },
  {
   "cell_type": "markdown",
   "metadata": {},
   "source": [
    "### Seleccionar el número de centros por Concello\n",
    "\n"
   ]
  },
  {
   "cell_type": "code",
   "execution_count": 27,
   "metadata": {},
   "outputs": [
    {
     "data": {
      "text/plain": [
       "Concello\n",
       "A Arnoia                1\n",
       "A Baña                  2\n",
       "A Capela                1\n",
       "A Cañiza                3\n",
       "A Coruña              105\n",
       "                     ... \n",
       "Xermade                 1\n",
       "Xinzo de Limia          6\n",
       "Xove                    3\n",
       "Xunqueira de Ambía      1\n",
       "Zas                     3\n",
       "Name: Código, Length: 288, dtype: int64"
      ]
     },
     "execution_count": 27,
     "metadata": {},
     "output_type": "execute_result"
    }
   ],
   "source": [
    "df2 = df[['Código','Concello']]\n",
    "df2.groupby('Concello')['Código'].size()\n"
   ]
  },
  {
   "cell_type": "markdown",
   "metadata": {},
   "source": [
    "### Seleccionar el número de centros  de cada tipo por Concello."
   ]
  },
  {
   "cell_type": "code",
   "execution_count": 28,
   "metadata": {},
   "outputs": [
    {
     "data": {
      "text/plain": [
       "Concello            Tipo de centro\n",
       "A Arnoia            CEIP              1\n",
       "A Baña              CPI               1\n",
       "                    ESMU              1\n",
       "A Capela            CEIP              1\n",
       "A Cañiza            CEIP              1\n",
       "                                     ..\n",
       "Xove                IES               1\n",
       "Xunqueira de Ambía  CEIP              1\n",
       "Zas                 CEIP              1\n",
       "                    CPI               1\n",
       "                    IES               1\n",
       "Length: 864, dtype: int64"
      ]
     },
     "execution_count": 28,
     "metadata": {},
     "output_type": "execute_result"
    }
   ],
   "source": [
    "df2 = df[['Tipo de centro','Concello']]\n",
    "df2.groupby(['Concello', 'Tipo de centro']).size()"
   ]
  },
  {
   "cell_type": "markdown",
   "metadata": {},
   "source": [
    "### Limpiando datos con errores"
   ]
  },
  {
   "cell_type": "code",
   "execution_count": 29,
   "metadata": {},
   "outputs": [
    {
     "data": {
      "text/html": [
       "<div>\n",
       "<style scoped>\n",
       "    .dataframe tbody tr th:only-of-type {\n",
       "        vertical-align: middle;\n",
       "    }\n",
       "\n",
       "    .dataframe tbody tr th {\n",
       "        vertical-align: top;\n",
       "    }\n",
       "\n",
       "    .dataframe thead th {\n",
       "        text-align: right;\n",
       "    }\n",
       "</style>\n",
       "<table border=\"1\" class=\"dataframe\">\n",
       "  <thead>\n",
       "    <tr style=\"text-align: right;\">\n",
       "      <th></th>\n",
       "      <th>Código</th>\n",
       "      <th>Nome</th>\n",
       "      <th>Enderezo</th>\n",
       "      <th>Concello</th>\n",
       "      <th>Provincia</th>\n",
       "      <th>Cód. postal</th>\n",
       "      <th>Teléfono</th>\n",
       "      <th>Tipo de centro</th>\n",
       "      <th>COORDENADA_X</th>\n",
       "      <th>COORDENADA_Y</th>\n",
       "      <th>TITULARIDADE</th>\n",
       "      <th>ENSINO_CONCERTADO</th>\n",
       "      <th>DEPENDENTE</th>\n",
       "    </tr>\n",
       "  </thead>\n",
       "  <tbody>\n",
       "    <tr>\n",
       "      <th>0</th>\n",
       "      <td>15000016</td>\n",
       "      <td>CEIP Plurilingüe San Marcos</td>\n",
       "      <td>Campo da Feira s/n</td>\n",
       "      <td>Abegondo</td>\n",
       "      <td>A Coruña</td>\n",
       "      <td>15318.0</td>\n",
       "      <td>881880201</td>\n",
       "      <td>CEIP</td>\n",
       "      <td>43.229183</td>\n",
       "      <td>-8.286580</td>\n",
       "      <td>Pública</td>\n",
       "      <td>Non</td>\n",
       "      <td>Si</td>\n",
       "    </tr>\n",
       "    <tr>\n",
       "      <th>1</th>\n",
       "      <td>15000107</td>\n",
       "      <td>CEIP A Maía</td>\n",
       "      <td>Rúa Peregrina, s/n (Bertamiráns)</td>\n",
       "      <td>Ames</td>\n",
       "      <td>A Coruña</td>\n",
       "      <td>15220.0</td>\n",
       "      <td>881866002</td>\n",
       "      <td>CEIP</td>\n",
       "      <td>42.867485</td>\n",
       "      <td>-8.657342</td>\n",
       "      <td>Pública</td>\n",
       "      <td>Non</td>\n",
       "      <td>Si</td>\n",
       "    </tr>\n",
       "    <tr>\n",
       "      <th>2</th>\n",
       "      <td>15000132</td>\n",
       "      <td>CPR Plurilingüe Alca</td>\n",
       "      <td>Lugar Biduído de Arriba 36</td>\n",
       "      <td>Ames</td>\n",
       "      <td>A Coruña</td>\n",
       "      <td>15895.0</td>\n",
       "      <td>981531103</td>\n",
       "      <td>CPR</td>\n",
       "      <td>42.846325</td>\n",
       "      <td>-8.600729</td>\n",
       "      <td>Privada</td>\n",
       "      <td>Si</td>\n",
       "      <td>Non</td>\n",
       "    </tr>\n",
       "    <tr>\n",
       "      <th>3</th>\n",
       "      <td>15000338</td>\n",
       "      <td>CPI As Mirandas</td>\n",
       "      <td>Avenida Celso Emilio Ferreiro 4</td>\n",
       "      <td>Ares</td>\n",
       "      <td>A Coruña</td>\n",
       "      <td>15624.0</td>\n",
       "      <td>881930020</td>\n",
       "      <td>CPI</td>\n",
       "      <td>43.429363</td>\n",
       "      <td>-8.246173</td>\n",
       "      <td>Pública</td>\n",
       "      <td>Non</td>\n",
       "      <td>Si</td>\n",
       "    </tr>\n",
       "    <tr>\n",
       "      <th>4</th>\n",
       "      <td>15000363</td>\n",
       "      <td>CEIP Ponte dos Brozos</td>\n",
       "      <td>Avenida Arsenio Iglesias, 34 (Sabon)</td>\n",
       "      <td>Arteixo</td>\n",
       "      <td>A Coruña</td>\n",
       "      <td>15142.0</td>\n",
       "      <td>881960506</td>\n",
       "      <td>CEIP</td>\n",
       "      <td>43.306938</td>\n",
       "      <td>-8.510333</td>\n",
       "      <td>Pública</td>\n",
       "      <td>Non</td>\n",
       "      <td>Si</td>\n",
       "    </tr>\n",
       "    <tr>\n",
       "      <th>...</th>\n",
       "      <td>...</td>\n",
       "      <td>...</td>\n",
       "      <td>...</td>\n",
       "      <td>...</td>\n",
       "      <td>...</td>\n",
       "      <td>...</td>\n",
       "      <td>...</td>\n",
       "      <td>...</td>\n",
       "      <td>...</td>\n",
       "      <td>...</td>\n",
       "      <td>...</td>\n",
       "      <td>...</td>\n",
       "      <td>...</td>\n",
       "    </tr>\n",
       "    <tr>\n",
       "      <th>611</th>\n",
       "      <td>36025189</td>\n",
       "      <td>EMUSPR Escola de Música da Banda Unión Musical...</td>\n",
       "      <td>Lugar Lugar de Covas 14 B</td>\n",
       "      <td>Cerdedo-Cotobade</td>\n",
       "      <td>Pontevedra</td>\n",
       "      <td>36120.0</td>\n",
       "      <td>0</td>\n",
       "      <td>EMUSPR</td>\n",
       "      <td>-13.488744</td>\n",
       "      <td>0.000000</td>\n",
       "      <td>Privada</td>\n",
       "      <td>Non</td>\n",
       "      <td>Non</td>\n",
       "    </tr>\n",
       "    <tr>\n",
       "      <th>612</th>\n",
       "      <td>36025190</td>\n",
       "      <td>EMUSPR Escola da Banda de Música Popular de Tui</td>\n",
       "      <td>Lugar Gándara s/n</td>\n",
       "      <td>Tui</td>\n",
       "      <td>Pontevedra</td>\n",
       "      <td>36720.0</td>\n",
       "      <td>0</td>\n",
       "      <td>EMUSPR</td>\n",
       "      <td>-8.623660</td>\n",
       "      <td>42.076248</td>\n",
       "      <td>Privada</td>\n",
       "      <td>Non</td>\n",
       "      <td>Non</td>\n",
       "    </tr>\n",
       "    <tr>\n",
       "      <th>613</th>\n",
       "      <td>36025207</td>\n",
       "      <td>EMUSPR Escola de Música Lira de San Miguel de Oia</td>\n",
       "      <td>Camiño de Currás 34</td>\n",
       "      <td>Vigo</td>\n",
       "      <td>Pontevedra</td>\n",
       "      <td>36390.0</td>\n",
       "      <td>0</td>\n",
       "      <td>EMUSPR</td>\n",
       "      <td>-13.488744</td>\n",
       "      <td>0.000000</td>\n",
       "      <td>Privada</td>\n",
       "      <td>Non</td>\n",
       "      <td>Non</td>\n",
       "    </tr>\n",
       "    <tr>\n",
       "      <th>614</th>\n",
       "      <td>36025219</td>\n",
       "      <td>Cen. Pub. Escola de Canteiros de Poio</td>\n",
       "      <td>Rúa Illa do Santo 2</td>\n",
       "      <td>Poio</td>\n",
       "      <td>Pontevedra</td>\n",
       "      <td>36005.0</td>\n",
       "      <td>0</td>\n",
       "      <td>Cen. Pub.</td>\n",
       "      <td>-8.663683</td>\n",
       "      <td>42.440247</td>\n",
       "      <td>Pública</td>\n",
       "      <td>Non</td>\n",
       "      <td>Si</td>\n",
       "    </tr>\n",
       "    <tr>\n",
       "      <th>615</th>\n",
       "      <td>36025220</td>\n",
       "      <td>CAD FDYE-Galicia</td>\n",
       "      <td>Avenida das Camelias 53</td>\n",
       "      <td>Vigo</td>\n",
       "      <td>Pontevedra</td>\n",
       "      <td>36211.0</td>\n",
       "      <td>680831166</td>\n",
       "      <td>CAD</td>\n",
       "      <td>-8.729750</td>\n",
       "      <td>42.229722</td>\n",
       "      <td>Privada</td>\n",
       "      <td>Non</td>\n",
       "      <td>Non</td>\n",
       "    </tr>\n",
       "  </tbody>\n",
       "</table>\n",
       "<p>1641 rows × 13 columns</p>\n",
       "</div>"
      ],
      "text/plain": [
       "       Código                                               Nome  \\\n",
       "0    15000016                        CEIP Plurilingüe San Marcos   \n",
       "1    15000107                                        CEIP A Maía   \n",
       "2    15000132                               CPR Plurilingüe Alca   \n",
       "3    15000338                                    CPI As Mirandas   \n",
       "4    15000363                              CEIP Ponte dos Brozos   \n",
       "..        ...                                                ...   \n",
       "611  36025189  EMUSPR Escola de Música da Banda Unión Musical...   \n",
       "612  36025190    EMUSPR Escola da Banda de Música Popular de Tui   \n",
       "613  36025207  EMUSPR Escola de Música Lira de San Miguel de Oia   \n",
       "614  36025219              Cen. Pub. Escola de Canteiros de Poio   \n",
       "615  36025220                                   CAD FDYE-Galicia   \n",
       "\n",
       "                                 Enderezo          Concello   Provincia  \\\n",
       "0                      Campo da Feira s/n          Abegondo    A Coruña   \n",
       "1        Rúa Peregrina, s/n (Bertamiráns)              Ames    A Coruña   \n",
       "2              Lugar Biduído de Arriba 36              Ames    A Coruña   \n",
       "3         Avenida Celso Emilio Ferreiro 4              Ares    A Coruña   \n",
       "4    Avenida Arsenio Iglesias, 34 (Sabon)           Arteixo    A Coruña   \n",
       "..                                    ...               ...         ...   \n",
       "611             Lugar Lugar de Covas 14 B  Cerdedo-Cotobade  Pontevedra   \n",
       "612                     Lugar Gándara s/n               Tui  Pontevedra   \n",
       "613                   Camiño de Currás 34              Vigo  Pontevedra   \n",
       "614                   Rúa Illa do Santo 2              Poio  Pontevedra   \n",
       "615               Avenida das Camelias 53              Vigo  Pontevedra   \n",
       "\n",
       "     Cód. postal   Teléfono Tipo de centro  COORDENADA_X  COORDENADA_Y  \\\n",
       "0        15318.0  881880201           CEIP     43.229183     -8.286580   \n",
       "1        15220.0  881866002           CEIP     42.867485     -8.657342   \n",
       "2        15895.0  981531103            CPR     42.846325     -8.600729   \n",
       "3        15624.0  881930020            CPI     43.429363     -8.246173   \n",
       "4        15142.0  881960506           CEIP     43.306938     -8.510333   \n",
       "..           ...        ...            ...           ...           ...   \n",
       "611      36120.0          0         EMUSPR    -13.488744      0.000000   \n",
       "612      36720.0          0         EMUSPR     -8.623660     42.076248   \n",
       "613      36390.0          0         EMUSPR    -13.488744      0.000000   \n",
       "614      36005.0          0      Cen. Pub.     -8.663683     42.440247   \n",
       "615      36211.0  680831166            CAD     -8.729750     42.229722   \n",
       "\n",
       "    TITULARIDADE ENSINO_CONCERTADO DEPENDENTE  \n",
       "0        Pública               Non         Si  \n",
       "1        Pública               Non         Si  \n",
       "2        Privada                Si        Non  \n",
       "3        Pública               Non         Si  \n",
       "4        Pública               Non         Si  \n",
       "..           ...               ...        ...  \n",
       "611      Privada               Non        Non  \n",
       "612      Privada               Non        Non  \n",
       "613      Privada               Non        Non  \n",
       "614      Pública               Non         Si  \n",
       "615      Privada               Non        Non  \n",
       "\n",
       "[1641 rows x 13 columns]"
      ]
     },
     "execution_count": 29,
     "metadata": {},
     "output_type": "execute_result"
    }
   ],
   "source": [
    "# cambiamos los NaN por 0\n",
    "df.fillna(0)"
   ]
  },
  {
   "cell_type": "markdown",
   "metadata": {},
   "source": [
    "### Guardar el dfTotal resultante en csv, excel, JSON, XML, Parquet"
   ]
  },
  {
   "cell_type": "markdown",
   "metadata": {},
   "source": [
    "- A CSV"
   ]
  },
  {
   "cell_type": "code",
   "execution_count": 30,
   "metadata": {},
   "outputs": [
    {
     "data": {
      "text/html": [
       "<div>\n",
       "<style scoped>\n",
       "    .dataframe tbody tr th:only-of-type {\n",
       "        vertical-align: middle;\n",
       "    }\n",
       "\n",
       "    .dataframe tbody tr th {\n",
       "        vertical-align: top;\n",
       "    }\n",
       "\n",
       "    .dataframe thead th {\n",
       "        text-align: right;\n",
       "    }\n",
       "</style>\n",
       "<table border=\"1\" class=\"dataframe\">\n",
       "  <thead>\n",
       "    <tr style=\"text-align: right;\">\n",
       "      <th></th>\n",
       "      <th>Unnamed: 0</th>\n",
       "      <th>Código</th>\n",
       "      <th>Nome</th>\n",
       "      <th>Enderezo</th>\n",
       "      <th>Concello</th>\n",
       "      <th>Provincia</th>\n",
       "      <th>Cód. postal</th>\n",
       "      <th>Teléfono</th>\n",
       "      <th>Tipo de centro</th>\n",
       "      <th>COORDENADA_X</th>\n",
       "      <th>COORDENADA_Y</th>\n",
       "      <th>TITULARIDADE</th>\n",
       "      <th>ENSINO_CONCERTADO</th>\n",
       "      <th>DEPENDENTE</th>\n",
       "    </tr>\n",
       "  </thead>\n",
       "  <tbody>\n",
       "    <tr>\n",
       "      <th>0</th>\n",
       "      <td>0</td>\n",
       "      <td>15000016</td>\n",
       "      <td>CEIP Plurilingüe San Marcos</td>\n",
       "      <td>Campo da Feira s/n</td>\n",
       "      <td>Abegondo</td>\n",
       "      <td>A Coruña</td>\n",
       "      <td>15318.0</td>\n",
       "      <td>881880201</td>\n",
       "      <td>CEIP</td>\n",
       "      <td>43.229183</td>\n",
       "      <td>-8.286580</td>\n",
       "      <td>Pública</td>\n",
       "      <td>Non</td>\n",
       "      <td>Si</td>\n",
       "    </tr>\n",
       "    <tr>\n",
       "      <th>1</th>\n",
       "      <td>1</td>\n",
       "      <td>15000107</td>\n",
       "      <td>CEIP A Maía</td>\n",
       "      <td>Rúa Peregrina, s/n (Bertamiráns)</td>\n",
       "      <td>Ames</td>\n",
       "      <td>A Coruña</td>\n",
       "      <td>15220.0</td>\n",
       "      <td>881866002</td>\n",
       "      <td>CEIP</td>\n",
       "      <td>42.867485</td>\n",
       "      <td>-8.657342</td>\n",
       "      <td>Pública</td>\n",
       "      <td>Non</td>\n",
       "      <td>Si</td>\n",
       "    </tr>\n",
       "    <tr>\n",
       "      <th>2</th>\n",
       "      <td>2</td>\n",
       "      <td>15000132</td>\n",
       "      <td>CPR Plurilingüe Alca</td>\n",
       "      <td>Lugar Biduído de Arriba 36</td>\n",
       "      <td>Ames</td>\n",
       "      <td>A Coruña</td>\n",
       "      <td>15895.0</td>\n",
       "      <td>981531103</td>\n",
       "      <td>CPR</td>\n",
       "      <td>42.846325</td>\n",
       "      <td>-8.600729</td>\n",
       "      <td>Privada</td>\n",
       "      <td>Si</td>\n",
       "      <td>Non</td>\n",
       "    </tr>\n",
       "    <tr>\n",
       "      <th>3</th>\n",
       "      <td>3</td>\n",
       "      <td>15000338</td>\n",
       "      <td>CPI As Mirandas</td>\n",
       "      <td>Avenida Celso Emilio Ferreiro 4</td>\n",
       "      <td>Ares</td>\n",
       "      <td>A Coruña</td>\n",
       "      <td>15624.0</td>\n",
       "      <td>881930020</td>\n",
       "      <td>CPI</td>\n",
       "      <td>43.429363</td>\n",
       "      <td>-8.246173</td>\n",
       "      <td>Pública</td>\n",
       "      <td>Non</td>\n",
       "      <td>Si</td>\n",
       "    </tr>\n",
       "    <tr>\n",
       "      <th>4</th>\n",
       "      <td>4</td>\n",
       "      <td>15000363</td>\n",
       "      <td>CEIP Ponte dos Brozos</td>\n",
       "      <td>Avenida Arsenio Iglesias, 34 (Sabon)</td>\n",
       "      <td>Arteixo</td>\n",
       "      <td>A Coruña</td>\n",
       "      <td>15142.0</td>\n",
       "      <td>881960506</td>\n",
       "      <td>CEIP</td>\n",
       "      <td>43.306938</td>\n",
       "      <td>-8.510333</td>\n",
       "      <td>Pública</td>\n",
       "      <td>Non</td>\n",
       "      <td>Si</td>\n",
       "    </tr>\n",
       "  </tbody>\n",
       "</table>\n",
       "</div>"
      ],
      "text/plain": [
       "   Unnamed: 0    Código                         Nome  \\\n",
       "0           0  15000016  CEIP Plurilingüe San Marcos   \n",
       "1           1  15000107                  CEIP A Maía   \n",
       "2           2  15000132         CPR Plurilingüe Alca   \n",
       "3           3  15000338              CPI As Mirandas   \n",
       "4           4  15000363        CEIP Ponte dos Brozos   \n",
       "\n",
       "                               Enderezo  Concello Provincia  Cód. postal  \\\n",
       "0                    Campo da Feira s/n  Abegondo  A Coruña      15318.0   \n",
       "1      Rúa Peregrina, s/n (Bertamiráns)      Ames  A Coruña      15220.0   \n",
       "2            Lugar Biduído de Arriba 36      Ames  A Coruña      15895.0   \n",
       "3       Avenida Celso Emilio Ferreiro 4      Ares  A Coruña      15624.0   \n",
       "4  Avenida Arsenio Iglesias, 34 (Sabon)   Arteixo  A Coruña      15142.0   \n",
       "\n",
       "    Teléfono Tipo de centro  COORDENADA_X  COORDENADA_Y TITULARIDADE  \\\n",
       "0  881880201           CEIP     43.229183     -8.286580      Pública   \n",
       "1  881866002           CEIP     42.867485     -8.657342      Pública   \n",
       "2  981531103            CPR     42.846325     -8.600729      Privada   \n",
       "3  881930020            CPI     43.429363     -8.246173      Pública   \n",
       "4  881960506           CEIP     43.306938     -8.510333      Pública   \n",
       "\n",
       "  ENSINO_CONCERTADO DEPENDENTE  \n",
       "0               Non         Si  \n",
       "1               Non         Si  \n",
       "2                Si        Non  \n",
       "3               Non         Si  \n",
       "4               Non         Si  "
      ]
     },
     "execution_count": 30,
     "metadata": {},
     "output_type": "execute_result"
    }
   ],
   "source": [
    "df.to_csv('ejercicio.csv')\n",
    "ejercicio = pd.read_csv('ejercicio.csv')\n",
    "ejercicio.head()\n"
   ]
  },
  {
   "cell_type": "markdown",
   "metadata": {},
   "source": [
    "- A JSON"
   ]
  },
  {
   "cell_type": "code",
   "execution_count": 31,
   "metadata": {},
   "outputs": [
    {
     "data": {
      "text/html": [
       "<div>\n",
       "<style scoped>\n",
       "    .dataframe tbody tr th:only-of-type {\n",
       "        vertical-align: middle;\n",
       "    }\n",
       "\n",
       "    .dataframe tbody tr th {\n",
       "        vertical-align: top;\n",
       "    }\n",
       "\n",
       "    .dataframe thead th {\n",
       "        text-align: right;\n",
       "    }\n",
       "</style>\n",
       "<table border=\"1\" class=\"dataframe\">\n",
       "  <thead>\n",
       "    <tr style=\"text-align: right;\">\n",
       "      <th></th>\n",
       "      <th>Código</th>\n",
       "      <th>Nome</th>\n",
       "      <th>Enderezo</th>\n",
       "      <th>Concello</th>\n",
       "      <th>Provincia</th>\n",
       "      <th>Cód. postal</th>\n",
       "      <th>Teléfono</th>\n",
       "      <th>Tipo de centro</th>\n",
       "      <th>COORDENADA_X</th>\n",
       "      <th>COORDENADA_Y</th>\n",
       "      <th>TITULARIDADE</th>\n",
       "      <th>ENSINO_CONCERTADO</th>\n",
       "      <th>DEPENDENTE</th>\n",
       "    </tr>\n",
       "  </thead>\n",
       "  <tbody>\n",
       "    <tr>\n",
       "      <th>0</th>\n",
       "      <td>15000016</td>\n",
       "      <td>CEIP Plurilingüe San Marcos</td>\n",
       "      <td>Campo da Feira s/n</td>\n",
       "      <td>Abegondo</td>\n",
       "      <td>A Coruña</td>\n",
       "      <td>15318.0</td>\n",
       "      <td>881880201</td>\n",
       "      <td>CEIP</td>\n",
       "      <td>43.229183</td>\n",
       "      <td>-8.286580</td>\n",
       "      <td>Pública</td>\n",
       "      <td>Non</td>\n",
       "      <td>Si</td>\n",
       "    </tr>\n",
       "    <tr>\n",
       "      <th>1</th>\n",
       "      <td>15000107</td>\n",
       "      <td>CEIP A Maía</td>\n",
       "      <td>Rúa Peregrina, s/n (Bertamiráns)</td>\n",
       "      <td>Ames</td>\n",
       "      <td>A Coruña</td>\n",
       "      <td>15220.0</td>\n",
       "      <td>881866002</td>\n",
       "      <td>CEIP</td>\n",
       "      <td>42.867485</td>\n",
       "      <td>-8.657342</td>\n",
       "      <td>Pública</td>\n",
       "      <td>Non</td>\n",
       "      <td>Si</td>\n",
       "    </tr>\n",
       "    <tr>\n",
       "      <th>2</th>\n",
       "      <td>15000132</td>\n",
       "      <td>CPR Plurilingüe Alca</td>\n",
       "      <td>Lugar Biduído de Arriba 36</td>\n",
       "      <td>Ames</td>\n",
       "      <td>A Coruña</td>\n",
       "      <td>15895.0</td>\n",
       "      <td>981531103</td>\n",
       "      <td>CPR</td>\n",
       "      <td>42.846325</td>\n",
       "      <td>-8.600729</td>\n",
       "      <td>Privada</td>\n",
       "      <td>Si</td>\n",
       "      <td>Non</td>\n",
       "    </tr>\n",
       "    <tr>\n",
       "      <th>3</th>\n",
       "      <td>15000338</td>\n",
       "      <td>CPI As Mirandas</td>\n",
       "      <td>Avenida Celso Emilio Ferreiro 4</td>\n",
       "      <td>Ares</td>\n",
       "      <td>A Coruña</td>\n",
       "      <td>15624.0</td>\n",
       "      <td>881930020</td>\n",
       "      <td>CPI</td>\n",
       "      <td>43.429363</td>\n",
       "      <td>-8.246173</td>\n",
       "      <td>Pública</td>\n",
       "      <td>Non</td>\n",
       "      <td>Si</td>\n",
       "    </tr>\n",
       "    <tr>\n",
       "      <th>4</th>\n",
       "      <td>15000363</td>\n",
       "      <td>CEIP Ponte dos Brozos</td>\n",
       "      <td>Avenida Arsenio Iglesias, 34 (Sabon)</td>\n",
       "      <td>Arteixo</td>\n",
       "      <td>A Coruña</td>\n",
       "      <td>15142.0</td>\n",
       "      <td>881960506</td>\n",
       "      <td>CEIP</td>\n",
       "      <td>43.306938</td>\n",
       "      <td>-8.510333</td>\n",
       "      <td>Pública</td>\n",
       "      <td>Non</td>\n",
       "      <td>Si</td>\n",
       "    </tr>\n",
       "  </tbody>\n",
       "</table>\n",
       "</div>"
      ],
      "text/plain": [
       "     Código                         Nome  \\\n",
       "0  15000016  CEIP Plurilingüe San Marcos   \n",
       "1  15000107                  CEIP A Maía   \n",
       "2  15000132         CPR Plurilingüe Alca   \n",
       "3  15000338              CPI As Mirandas   \n",
       "4  15000363        CEIP Ponte dos Brozos   \n",
       "\n",
       "                               Enderezo  Concello Provincia  Cód. postal  \\\n",
       "0                    Campo da Feira s/n  Abegondo  A Coruña      15318.0   \n",
       "1      Rúa Peregrina, s/n (Bertamiráns)      Ames  A Coruña      15220.0   \n",
       "2            Lugar Biduído de Arriba 36      Ames  A Coruña      15895.0   \n",
       "3       Avenida Celso Emilio Ferreiro 4      Ares  A Coruña      15624.0   \n",
       "4  Avenida Arsenio Iglesias, 34 (Sabon)   Arteixo  A Coruña      15142.0   \n",
       "\n",
       "    Teléfono Tipo de centro  COORDENADA_X  COORDENADA_Y TITULARIDADE  \\\n",
       "0  881880201           CEIP     43.229183     -8.286580      Pública   \n",
       "1  881866002           CEIP     42.867485     -8.657342      Pública   \n",
       "2  981531103            CPR     42.846325     -8.600729      Privada   \n",
       "3  881930020            CPI     43.429363     -8.246173      Pública   \n",
       "4  881960506           CEIP     43.306938     -8.510333      Pública   \n",
       "\n",
       "  ENSINO_CONCERTADO DEPENDENTE  \n",
       "0               Non         Si  \n",
       "1               Non         Si  \n",
       "2                Si        Non  \n",
       "3               Non         Si  \n",
       "4               Non         Si  "
      ]
     },
     "execution_count": 31,
     "metadata": {},
     "output_type": "execute_result"
    }
   ],
   "source": [
    "df.reset_index(drop=True, inplace=True)\n",
    "df.to_json('ejercicio.json')\n",
    "ejercicio = pd.read_json('ejercicio.json')\n",
    "ejercicio.head()"
   ]
  },
  {
   "cell_type": "markdown",
   "metadata": {},
   "source": [
    "- A EXCEL"
   ]
  },
  {
   "cell_type": "code",
   "execution_count": 32,
   "metadata": {},
   "outputs": [
    {
     "data": {
      "text/html": [
       "<div>\n",
       "<style scoped>\n",
       "    .dataframe tbody tr th:only-of-type {\n",
       "        vertical-align: middle;\n",
       "    }\n",
       "\n",
       "    .dataframe tbody tr th {\n",
       "        vertical-align: top;\n",
       "    }\n",
       "\n",
       "    .dataframe thead th {\n",
       "        text-align: right;\n",
       "    }\n",
       "</style>\n",
       "<table border=\"1\" class=\"dataframe\">\n",
       "  <thead>\n",
       "    <tr style=\"text-align: right;\">\n",
       "      <th></th>\n",
       "      <th>Unnamed: 0</th>\n",
       "      <th>Código</th>\n",
       "      <th>Nome</th>\n",
       "      <th>Enderezo</th>\n",
       "      <th>Concello</th>\n",
       "      <th>Provincia</th>\n",
       "      <th>Cód. postal</th>\n",
       "      <th>Teléfono</th>\n",
       "      <th>Tipo de centro</th>\n",
       "      <th>COORDENADA_X</th>\n",
       "      <th>COORDENADA_Y</th>\n",
       "      <th>TITULARIDADE</th>\n",
       "      <th>ENSINO_CONCERTADO</th>\n",
       "      <th>DEPENDENTE</th>\n",
       "    </tr>\n",
       "  </thead>\n",
       "  <tbody>\n",
       "    <tr>\n",
       "      <th>0</th>\n",
       "      <td>0</td>\n",
       "      <td>15000016</td>\n",
       "      <td>CEIP Plurilingüe San Marcos</td>\n",
       "      <td>Campo da Feira s/n</td>\n",
       "      <td>Abegondo</td>\n",
       "      <td>A Coruña</td>\n",
       "      <td>15318.0</td>\n",
       "      <td>881880201</td>\n",
       "      <td>CEIP</td>\n",
       "      <td>43.229183</td>\n",
       "      <td>-8.286580</td>\n",
       "      <td>Pública</td>\n",
       "      <td>Non</td>\n",
       "      <td>Si</td>\n",
       "    </tr>\n",
       "    <tr>\n",
       "      <th>1</th>\n",
       "      <td>1</td>\n",
       "      <td>15000107</td>\n",
       "      <td>CEIP A Maía</td>\n",
       "      <td>Rúa Peregrina, s/n (Bertamiráns)</td>\n",
       "      <td>Ames</td>\n",
       "      <td>A Coruña</td>\n",
       "      <td>15220.0</td>\n",
       "      <td>881866002</td>\n",
       "      <td>CEIP</td>\n",
       "      <td>42.867485</td>\n",
       "      <td>-8.657342</td>\n",
       "      <td>Pública</td>\n",
       "      <td>Non</td>\n",
       "      <td>Si</td>\n",
       "    </tr>\n",
       "    <tr>\n",
       "      <th>2</th>\n",
       "      <td>2</td>\n",
       "      <td>15000132</td>\n",
       "      <td>CPR Plurilingüe Alca</td>\n",
       "      <td>Lugar Biduído de Arriba 36</td>\n",
       "      <td>Ames</td>\n",
       "      <td>A Coruña</td>\n",
       "      <td>15895.0</td>\n",
       "      <td>981531103</td>\n",
       "      <td>CPR</td>\n",
       "      <td>42.846325</td>\n",
       "      <td>-8.600729</td>\n",
       "      <td>Privada</td>\n",
       "      <td>Si</td>\n",
       "      <td>Non</td>\n",
       "    </tr>\n",
       "    <tr>\n",
       "      <th>3</th>\n",
       "      <td>3</td>\n",
       "      <td>15000338</td>\n",
       "      <td>CPI As Mirandas</td>\n",
       "      <td>Avenida Celso Emilio Ferreiro 4</td>\n",
       "      <td>Ares</td>\n",
       "      <td>A Coruña</td>\n",
       "      <td>15624.0</td>\n",
       "      <td>881930020</td>\n",
       "      <td>CPI</td>\n",
       "      <td>43.429363</td>\n",
       "      <td>-8.246173</td>\n",
       "      <td>Pública</td>\n",
       "      <td>Non</td>\n",
       "      <td>Si</td>\n",
       "    </tr>\n",
       "    <tr>\n",
       "      <th>4</th>\n",
       "      <td>4</td>\n",
       "      <td>15000363</td>\n",
       "      <td>CEIP Ponte dos Brozos</td>\n",
       "      <td>Avenida Arsenio Iglesias, 34 (Sabon)</td>\n",
       "      <td>Arteixo</td>\n",
       "      <td>A Coruña</td>\n",
       "      <td>15142.0</td>\n",
       "      <td>881960506</td>\n",
       "      <td>CEIP</td>\n",
       "      <td>43.306938</td>\n",
       "      <td>-8.510333</td>\n",
       "      <td>Pública</td>\n",
       "      <td>Non</td>\n",
       "      <td>Si</td>\n",
       "    </tr>\n",
       "  </tbody>\n",
       "</table>\n",
       "</div>"
      ],
      "text/plain": [
       "   Unnamed: 0    Código                         Nome  \\\n",
       "0           0  15000016  CEIP Plurilingüe San Marcos   \n",
       "1           1  15000107                  CEIP A Maía   \n",
       "2           2  15000132         CPR Plurilingüe Alca   \n",
       "3           3  15000338              CPI As Mirandas   \n",
       "4           4  15000363        CEIP Ponte dos Brozos   \n",
       "\n",
       "                               Enderezo  Concello Provincia  Cód. postal  \\\n",
       "0                    Campo da Feira s/n  Abegondo  A Coruña      15318.0   \n",
       "1      Rúa Peregrina, s/n (Bertamiráns)      Ames  A Coruña      15220.0   \n",
       "2            Lugar Biduído de Arriba 36      Ames  A Coruña      15895.0   \n",
       "3       Avenida Celso Emilio Ferreiro 4      Ares  A Coruña      15624.0   \n",
       "4  Avenida Arsenio Iglesias, 34 (Sabon)   Arteixo  A Coruña      15142.0   \n",
       "\n",
       "    Teléfono Tipo de centro  COORDENADA_X  COORDENADA_Y TITULARIDADE  \\\n",
       "0  881880201           CEIP     43.229183     -8.286580      Pública   \n",
       "1  881866002           CEIP     42.867485     -8.657342      Pública   \n",
       "2  981531103            CPR     42.846325     -8.600729      Privada   \n",
       "3  881930020            CPI     43.429363     -8.246173      Pública   \n",
       "4  881960506           CEIP     43.306938     -8.510333      Pública   \n",
       "\n",
       "  ENSINO_CONCERTADO DEPENDENTE  \n",
       "0               Non         Si  \n",
       "1               Non         Si  \n",
       "2                Si        Non  \n",
       "3               Non         Si  \n",
       "4               Non         Si  "
      ]
     },
     "execution_count": 32,
     "metadata": {},
     "output_type": "execute_result"
    }
   ],
   "source": [
    "df.to_excel('ejercicio.xlsx')\n",
    "ejercicio = pd.read_excel('ejercicio.xlsx')\n",
    "ejercicio.head()"
   ]
  },
  {
   "cell_type": "markdown",
   "metadata": {},
   "source": [
    "- A XML"
   ]
  },
  {
   "cell_type": "code",
   "execution_count": 37,
   "metadata": {},
   "outputs": [
    {
     "data": {
      "text/html": [
       "<div>\n",
       "<style scoped>\n",
       "    .dataframe tbody tr th:only-of-type {\n",
       "        vertical-align: middle;\n",
       "    }\n",
       "\n",
       "    .dataframe tbody tr th {\n",
       "        vertical-align: top;\n",
       "    }\n",
       "\n",
       "    .dataframe thead th {\n",
       "        text-align: right;\n",
       "    }\n",
       "</style>\n",
       "<table border=\"1\" class=\"dataframe\">\n",
       "  <thead>\n",
       "    <tr style=\"text-align: right;\">\n",
       "      <th></th>\n",
       "      <th>index</th>\n",
       "      <th>Código</th>\n",
       "      <th>Nome</th>\n",
       "      <th>Enderezo</th>\n",
       "      <th>Concello</th>\n",
       "      <th>Provincia</th>\n",
       "      <th>Cód_Postal</th>\n",
       "      <th>Teléfono</th>\n",
       "      <th>tipo_de_centro</th>\n",
       "      <th>COORDENADA_X</th>\n",
       "      <th>COORDENADA_Y</th>\n",
       "      <th>TITULARIDADE</th>\n",
       "      <th>ENSINO_CONCERTADO</th>\n",
       "      <th>DEPENDENTE</th>\n",
       "    </tr>\n",
       "  </thead>\n",
       "  <tbody>\n",
       "    <tr>\n",
       "      <th>0</th>\n",
       "      <td>0</td>\n",
       "      <td>15000016</td>\n",
       "      <td>CEIP Plurilingüe San Marcos</td>\n",
       "      <td>Campo da Feira s/n</td>\n",
       "      <td>Abegondo</td>\n",
       "      <td>A Coruña</td>\n",
       "      <td>15318.0</td>\n",
       "      <td>881880201</td>\n",
       "      <td>CEIP</td>\n",
       "      <td>43.229183</td>\n",
       "      <td>-8.286580</td>\n",
       "      <td>Pública</td>\n",
       "      <td>Non</td>\n",
       "      <td>Si</td>\n",
       "    </tr>\n",
       "    <tr>\n",
       "      <th>1</th>\n",
       "      <td>1</td>\n",
       "      <td>15000107</td>\n",
       "      <td>CEIP A Maía</td>\n",
       "      <td>Rúa Peregrina, s/n (Bertamiráns)</td>\n",
       "      <td>Ames</td>\n",
       "      <td>A Coruña</td>\n",
       "      <td>15220.0</td>\n",
       "      <td>881866002</td>\n",
       "      <td>CEIP</td>\n",
       "      <td>42.867485</td>\n",
       "      <td>-8.657342</td>\n",
       "      <td>Pública</td>\n",
       "      <td>Non</td>\n",
       "      <td>Si</td>\n",
       "    </tr>\n",
       "    <tr>\n",
       "      <th>2</th>\n",
       "      <td>2</td>\n",
       "      <td>15000132</td>\n",
       "      <td>CPR Plurilingüe Alca</td>\n",
       "      <td>Lugar Biduído de Arriba 36</td>\n",
       "      <td>Ames</td>\n",
       "      <td>A Coruña</td>\n",
       "      <td>15895.0</td>\n",
       "      <td>981531103</td>\n",
       "      <td>CPR</td>\n",
       "      <td>42.846325</td>\n",
       "      <td>-8.600729</td>\n",
       "      <td>Privada</td>\n",
       "      <td>Si</td>\n",
       "      <td>Non</td>\n",
       "    </tr>\n",
       "    <tr>\n",
       "      <th>3</th>\n",
       "      <td>3</td>\n",
       "      <td>15000338</td>\n",
       "      <td>CPI As Mirandas</td>\n",
       "      <td>Avenida Celso Emilio Ferreiro 4</td>\n",
       "      <td>Ares</td>\n",
       "      <td>A Coruña</td>\n",
       "      <td>15624.0</td>\n",
       "      <td>881930020</td>\n",
       "      <td>CPI</td>\n",
       "      <td>43.429363</td>\n",
       "      <td>-8.246173</td>\n",
       "      <td>Pública</td>\n",
       "      <td>Non</td>\n",
       "      <td>Si</td>\n",
       "    </tr>\n",
       "    <tr>\n",
       "      <th>4</th>\n",
       "      <td>4</td>\n",
       "      <td>15000363</td>\n",
       "      <td>CEIP Ponte dos Brozos</td>\n",
       "      <td>Avenida Arsenio Iglesias, 34 (Sabon)</td>\n",
       "      <td>Arteixo</td>\n",
       "      <td>A Coruña</td>\n",
       "      <td>15142.0</td>\n",
       "      <td>881960506</td>\n",
       "      <td>CEIP</td>\n",
       "      <td>43.306938</td>\n",
       "      <td>-8.510333</td>\n",
       "      <td>Pública</td>\n",
       "      <td>Non</td>\n",
       "      <td>Si</td>\n",
       "    </tr>\n",
       "  </tbody>\n",
       "</table>\n",
       "</div>"
      ],
      "text/plain": [
       "   index    Código                         Nome  \\\n",
       "0      0  15000016  CEIP Plurilingüe San Marcos   \n",
       "1      1  15000107                  CEIP A Maía   \n",
       "2      2  15000132         CPR Plurilingüe Alca   \n",
       "3      3  15000338              CPI As Mirandas   \n",
       "4      4  15000363        CEIP Ponte dos Brozos   \n",
       "\n",
       "                               Enderezo  Concello Provincia  Cód_Postal  \\\n",
       "0                    Campo da Feira s/n  Abegondo  A Coruña     15318.0   \n",
       "1      Rúa Peregrina, s/n (Bertamiráns)      Ames  A Coruña     15220.0   \n",
       "2            Lugar Biduído de Arriba 36      Ames  A Coruña     15895.0   \n",
       "3       Avenida Celso Emilio Ferreiro 4      Ares  A Coruña     15624.0   \n",
       "4  Avenida Arsenio Iglesias, 34 (Sabon)   Arteixo  A Coruña     15142.0   \n",
       "\n",
       "    Teléfono tipo_de_centro  COORDENADA_X  COORDENADA_Y TITULARIDADE  \\\n",
       "0  881880201           CEIP     43.229183     -8.286580      Pública   \n",
       "1  881866002           CEIP     42.867485     -8.657342      Pública   \n",
       "2  981531103            CPR     42.846325     -8.600729      Privada   \n",
       "3  881930020            CPI     43.429363     -8.246173      Pública   \n",
       "4  881960506           CEIP     43.306938     -8.510333      Pública   \n",
       "\n",
       "  ENSINO_CONCERTADO DEPENDENTE  \n",
       "0               Non         Si  \n",
       "1               Non         Si  \n",
       "2                Si        Non  \n",
       "3               Non         Si  \n",
       "4               Non         Si  "
      ]
     },
     "execution_count": 37,
     "metadata": {},
     "output_type": "execute_result"
    }
   ],
   "source": [
    "df = df.rename(columns={'Cód. postal':'Cód_Postal','Tipo de centro':'tipo_de_centro'})\n",
    "df.to_xml('ejercicio.xml')\n",
    "exercicio = pd.read_xml('ejercicio.xml')\n",
    "exercicio.head()"
   ]
  },
  {
   "cell_type": "markdown",
   "metadata": {},
   "source": [
    "- A PARQUET"
   ]
  },
  {
   "cell_type": "code",
   "execution_count": 40,
   "metadata": {},
   "outputs": [
    {
     "data": {
      "text/html": [
       "<div>\n",
       "<style scoped>\n",
       "    .dataframe tbody tr th:only-of-type {\n",
       "        vertical-align: middle;\n",
       "    }\n",
       "\n",
       "    .dataframe tbody tr th {\n",
       "        vertical-align: top;\n",
       "    }\n",
       "\n",
       "    .dataframe thead th {\n",
       "        text-align: right;\n",
       "    }\n",
       "</style>\n",
       "<table border=\"1\" class=\"dataframe\">\n",
       "  <thead>\n",
       "    <tr style=\"text-align: right;\">\n",
       "      <th></th>\n",
       "      <th>Código</th>\n",
       "      <th>Nome</th>\n",
       "      <th>Enderezo</th>\n",
       "      <th>Concello</th>\n",
       "      <th>Provincia</th>\n",
       "      <th>Cód_Postal</th>\n",
       "      <th>Teléfono</th>\n",
       "      <th>tipo_de_centro</th>\n",
       "      <th>COORDENADA_X</th>\n",
       "      <th>COORDENADA_Y</th>\n",
       "      <th>TITULARIDADE</th>\n",
       "      <th>ENSINO_CONCERTADO</th>\n",
       "      <th>DEPENDENTE</th>\n",
       "    </tr>\n",
       "  </thead>\n",
       "  <tbody>\n",
       "    <tr>\n",
       "      <th>0</th>\n",
       "      <td>15000016</td>\n",
       "      <td>CEIP Plurilingüe San Marcos</td>\n",
       "      <td>Campo da Feira s/n</td>\n",
       "      <td>Abegondo</td>\n",
       "      <td>A Coruña</td>\n",
       "      <td>15318.0</td>\n",
       "      <td>881880201</td>\n",
       "      <td>CEIP</td>\n",
       "      <td>43.229183</td>\n",
       "      <td>-8.286580</td>\n",
       "      <td>Pública</td>\n",
       "      <td>Non</td>\n",
       "      <td>Si</td>\n",
       "    </tr>\n",
       "    <tr>\n",
       "      <th>1</th>\n",
       "      <td>15000107</td>\n",
       "      <td>CEIP A Maía</td>\n",
       "      <td>Rúa Peregrina, s/n (Bertamiráns)</td>\n",
       "      <td>Ames</td>\n",
       "      <td>A Coruña</td>\n",
       "      <td>15220.0</td>\n",
       "      <td>881866002</td>\n",
       "      <td>CEIP</td>\n",
       "      <td>42.867485</td>\n",
       "      <td>-8.657342</td>\n",
       "      <td>Pública</td>\n",
       "      <td>Non</td>\n",
       "      <td>Si</td>\n",
       "    </tr>\n",
       "    <tr>\n",
       "      <th>2</th>\n",
       "      <td>15000132</td>\n",
       "      <td>CPR Plurilingüe Alca</td>\n",
       "      <td>Lugar Biduído de Arriba 36</td>\n",
       "      <td>Ames</td>\n",
       "      <td>A Coruña</td>\n",
       "      <td>15895.0</td>\n",
       "      <td>981531103</td>\n",
       "      <td>CPR</td>\n",
       "      <td>42.846325</td>\n",
       "      <td>-8.600729</td>\n",
       "      <td>Privada</td>\n",
       "      <td>Si</td>\n",
       "      <td>Non</td>\n",
       "    </tr>\n",
       "    <tr>\n",
       "      <th>3</th>\n",
       "      <td>15000338</td>\n",
       "      <td>CPI As Mirandas</td>\n",
       "      <td>Avenida Celso Emilio Ferreiro 4</td>\n",
       "      <td>Ares</td>\n",
       "      <td>A Coruña</td>\n",
       "      <td>15624.0</td>\n",
       "      <td>881930020</td>\n",
       "      <td>CPI</td>\n",
       "      <td>43.429363</td>\n",
       "      <td>-8.246173</td>\n",
       "      <td>Pública</td>\n",
       "      <td>Non</td>\n",
       "      <td>Si</td>\n",
       "    </tr>\n",
       "    <tr>\n",
       "      <th>4</th>\n",
       "      <td>15000363</td>\n",
       "      <td>CEIP Ponte dos Brozos</td>\n",
       "      <td>Avenida Arsenio Iglesias, 34 (Sabon)</td>\n",
       "      <td>Arteixo</td>\n",
       "      <td>A Coruña</td>\n",
       "      <td>15142.0</td>\n",
       "      <td>881960506</td>\n",
       "      <td>CEIP</td>\n",
       "      <td>43.306938</td>\n",
       "      <td>-8.510333</td>\n",
       "      <td>Pública</td>\n",
       "      <td>Non</td>\n",
       "      <td>Si</td>\n",
       "    </tr>\n",
       "  </tbody>\n",
       "</table>\n",
       "</div>"
      ],
      "text/plain": [
       "     Código                         Nome  \\\n",
       "0  15000016  CEIP Plurilingüe San Marcos   \n",
       "1  15000107                  CEIP A Maía   \n",
       "2  15000132         CPR Plurilingüe Alca   \n",
       "3  15000338              CPI As Mirandas   \n",
       "4  15000363        CEIP Ponte dos Brozos   \n",
       "\n",
       "                               Enderezo  Concello Provincia  Cód_Postal  \\\n",
       "0                    Campo da Feira s/n  Abegondo  A Coruña     15318.0   \n",
       "1      Rúa Peregrina, s/n (Bertamiráns)      Ames  A Coruña     15220.0   \n",
       "2            Lugar Biduído de Arriba 36      Ames  A Coruña     15895.0   \n",
       "3       Avenida Celso Emilio Ferreiro 4      Ares  A Coruña     15624.0   \n",
       "4  Avenida Arsenio Iglesias, 34 (Sabon)   Arteixo  A Coruña     15142.0   \n",
       "\n",
       "    Teléfono tipo_de_centro  COORDENADA_X  COORDENADA_Y TITULARIDADE  \\\n",
       "0  881880201           CEIP     43.229183     -8.286580      Pública   \n",
       "1  881866002           CEIP     42.867485     -8.657342      Pública   \n",
       "2  981531103            CPR     42.846325     -8.600729      Privada   \n",
       "3  881930020            CPI     43.429363     -8.246173      Pública   \n",
       "4  881960506           CEIP     43.306938     -8.510333      Pública   \n",
       "\n",
       "  ENSINO_CONCERTADO DEPENDENTE  \n",
       "0               Non         Si  \n",
       "1               Non         Si  \n",
       "2                Si        Non  \n",
       "3               Non         Si  \n",
       "4               Non         Si  "
      ]
     },
     "execution_count": 40,
     "metadata": {},
     "output_type": "execute_result"
    }
   ],
   "source": [
    "df.to_parquet('ejercicio.parquet')\n",
    "exercicio = pd.read_parquet('ejercicio.parquet')\n",
    "exercicio.head()"
   ]
  }
 ],
 "metadata": {
  "kernelspec": {
   "display_name": "bigdata",
   "language": "python",
   "name": "python3"
  },
  "language_info": {
   "codemirror_mode": {
    "name": "ipython",
    "version": 3
   },
   "file_extension": ".py",
   "mimetype": "text/x-python",
   "name": "python",
   "nbconvert_exporter": "python",
   "pygments_lexer": "ipython3",
   "version": "3.8.18"
  }
 },
 "nbformat": 4,
 "nbformat_minor": 2
}
