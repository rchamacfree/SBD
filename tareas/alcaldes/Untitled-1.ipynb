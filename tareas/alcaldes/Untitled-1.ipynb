{
 "cells": [
  {
   "cell_type": "code",
   "execution_count": 108,
   "metadata": {},
   "outputs": [],
   "source": [
    "\n",
    "import pandas as pd\n",
    "\n",
    "def cargaAlcaldes(archivo, columna, fila, cabecera):\n",
    "    return pd.read_excel(archivo,\n",
    "         names=cabecera, usecols=columna, skiprows=fila)\n",
    "\n",
    "\n",
    "\n",
    "archivos = [\n",
    "    ['Alcaldes_Mandato_1979_1983.xlsx', 'D:H', 8, ['CCAA', 'PROVINCIA', 'MUNICIPIO', 'INE', 'NOMBRE']],\n",
    "    ['Alcaldes_Mandato_1983_1987.xlsx', 'D:H', 8, ['CCAA', 'PROVINCIA', 'MUNICIPIO', 'INE', 'NOMBRE']],\n",
    "    ['Alcaldes_Mandato_1987_1991.xlsx', 'D:H', 8, ['CCAA', 'PROVINCIA', 'MUNICIPIO', 'INE', 'NOMBRE']],\n",
    "    ['Alcaldes_Mandato_1991_1995.xlsx', 'D:H', 8, ['CCAA', 'PROVINCIA', 'MUNICIPIO', 'INE', 'NOMBRE']],\n",
    "    ['Alcaldes_Mandato_1995_1999.xlsx', 'D:H', 8, ['CCAA', 'PROVINCIA', 'MUNICIPIO', 'INE', 'NOMBRE']],\n",
    "    ['Alcaldes_Mandato_1999_2003.xlsx', 'D:H', 8, ['CCAA', 'PROVINCIA', 'MUNICIPIO', 'INE', 'NOMBRE']],\n",
    "    ['Alcaldes_Mandato_2003_2007.xlsx', 'D:H', 8, ['CCAA', 'PROVINCIA', 'MUNICIPIO', 'INE', 'NOMBRE']],\n",
    "    ['Alcaldes_Mandato_2007_2011.xlsx', 'D:H', 8, ['CCAA', 'PROVINCIA', 'MUNICIPIO', 'INE', 'NOMBRE']],\n",
    "    ['Alcaldes_Mandato_2011_2015.xlsx', 'D:H', 8, ['CCAA', 'PROVINCIA', 'MUNICIPIO', 'INE', 'NOMBRE']],\n",
    "    ['Alcaldes_Mandato_2015_2019.xlsx', 'D:H', 8, ['CCAA', 'PROVINCIA', 'MUNICIPIO', 'INE', 'NOMBRE']],\n",
    "    ['Alcaldes_Mandato_2019_2023.xlsx', 'D:H', 8, ['CCAA', 'PROVINCIA', 'MUNICIPIO', 'INE', 'NOMBRE']]\n",
    "\n",
    "]\n",
    "\n",
    "#Inicialización do dataframe vacío\n",
    "dfAlcaldes = pd.DataFrame([])\n",
    "\n",
    "for i in range(0, len(archivos)):\n",
    "    dfAlcaldes = pd.concat([dfAlcaldes,\n",
    "        cargaAlcaldes(archivos[i][0], archivos[i][1], \n",
    "            archivos[i][2], archivos[i][3])]\n",
    "    )\n",
    "\n",
    "#print(dfAlcaldes)\n",
    "\n",
    "\n",
    "\n"
   ]
  },
  {
   "cell_type": "markdown",
   "metadata": {},
   "source": [
    "## Comprobar Na\n",
    "- df.isna().any()\n",
    "## Numero de datos faltantes por columna\n",
    "df.isna().sum()\n"
   ]
  },
  {
   "cell_type": "code",
   "execution_count": 109,
   "metadata": {},
   "outputs": [
    {
     "data": {
      "text/plain": [
       "CCAA         0\n",
       "PROVINCIA    0\n",
       "MUNICIPIO    0\n",
       "INE          0\n",
       "NOMBRE       1\n",
       "dtype: int64"
      ]
     },
     "execution_count": 109,
     "metadata": {},
     "output_type": "execute_result"
    }
   ],
   "source": [
    "dfAlcaldes.isna().any()\n",
    "dfAlcaldes.isna().sum()"
   ]
  },
  {
   "cell_type": "markdown",
   "metadata": {},
   "source": [
    "## Eliminar todas las filas que tengan datos faltantes\n",
    "- df.dropna(axis='index')\n"
   ]
  },
  {
   "cell_type": "code",
   "execution_count": 110,
   "metadata": {},
   "outputs": [
    {
     "data": {
      "text/plain": [
       "CCAA         0\n",
       "PROVINCIA    0\n",
       "MUNICIPIO    0\n",
       "INE          0\n",
       "NOMBRE       1\n",
       "dtype: int64"
      ]
     },
     "execution_count": 110,
     "metadata": {},
     "output_type": "execute_result"
    }
   ],
   "source": [
    "dfAlcaldes.fillna(\"X\")\n",
    "dfAlcaldes.isna().sum()"
   ]
  },
  {
   "cell_type": "markdown",
   "metadata": {},
   "source": [
    "### Convertir datos a minúsculas\n",
    "\n",
    "- datos.str.lower()\n",
    "\n",
    "### Añadir una nueva columna\n",
    "- df['NuevaColumna'] = [1, 2, 3, 4]\n",
    "- df.insert(loc=1, column='NuevaColumna', value=[1, 2, 3, 4])\n",
    "- df2 = pd.DataFrame({'NuevaColumna': [1, 2, 3, 4]}) -> df = pd.concat([df, df2], axis=1)\n",
    "- df = df.assign(NuevaColumna=[1, 2, 3, 4])"
   ]
  },
  {
   "cell_type": "code",
   "execution_count": 111,
   "metadata": {},
   "outputs": [
    {
     "data": {
      "text/html": [
       "<div>\n",
       "<style scoped>\n",
       "    .dataframe tbody tr th:only-of-type {\n",
       "        vertical-align: middle;\n",
       "    }\n",
       "\n",
       "    .dataframe tbody tr th {\n",
       "        vertical-align: top;\n",
       "    }\n",
       "\n",
       "    .dataframe thead th {\n",
       "        text-align: right;\n",
       "    }\n",
       "</style>\n",
       "<table border=\"1\" class=\"dataframe\">\n",
       "  <thead>\n",
       "    <tr style=\"text-align: right;\">\n",
       "      <th></th>\n",
       "      <th>CCAA</th>\n",
       "      <th>PROVINCIA</th>\n",
       "      <th>MUNICIPIO</th>\n",
       "      <th>INE</th>\n",
       "      <th>NOMBRE</th>\n",
       "      <th>nombre_minusculas</th>\n",
       "    </tr>\n",
       "  </thead>\n",
       "  <tbody>\n",
       "    <tr>\n",
       "      <th>0</th>\n",
       "      <td>Andalucía</td>\n",
       "      <td>Almería</td>\n",
       "      <td>ABRUCENA</td>\n",
       "      <td>040025</td>\n",
       "      <td>MARTINEZ LAO, JUAN</td>\n",
       "      <td>martinez lao, juan</td>\n",
       "    </tr>\n",
       "    <tr>\n",
       "      <th>1</th>\n",
       "      <td>Andalucía</td>\n",
       "      <td>Almería</td>\n",
       "      <td>ADRA</td>\n",
       "      <td>040031</td>\n",
       "      <td>SARMIENTO POSADA, PEDRO</td>\n",
       "      <td>sarmiento posada, pedro</td>\n",
       "    </tr>\n",
       "    <tr>\n",
       "      <th>2</th>\n",
       "      <td>Andalucía</td>\n",
       "      <td>Almería</td>\n",
       "      <td>ALBANCHEZ</td>\n",
       "      <td>040046</td>\n",
       "      <td>MARTOS AYBAR, RAMON</td>\n",
       "      <td>martos aybar, ramon</td>\n",
       "    </tr>\n",
       "    <tr>\n",
       "      <th>3</th>\n",
       "      <td>Andalucía</td>\n",
       "      <td>Almería</td>\n",
       "      <td>ALBOLODUY</td>\n",
       "      <td>040059</td>\n",
       "      <td>BLANES PANIAGUA, MARIANO</td>\n",
       "      <td>blanes paniagua, mariano</td>\n",
       "    </tr>\n",
       "    <tr>\n",
       "      <th>4</th>\n",
       "      <td>Andalucía</td>\n",
       "      <td>Almería</td>\n",
       "      <td>ALBOX</td>\n",
       "      <td>040062</td>\n",
       "      <td>MIRAS CARRASCO, JOSE</td>\n",
       "      <td>miras carrasco, jose</td>\n",
       "    </tr>\n",
       "    <tr>\n",
       "      <th>...</th>\n",
       "      <td>...</td>\n",
       "      <td>...</td>\n",
       "      <td>...</td>\n",
       "      <td>...</td>\n",
       "      <td>...</td>\n",
       "      <td>...</td>\n",
       "    </tr>\n",
       "    <tr>\n",
       "      <th>8758</th>\n",
       "      <td>Rioja, La</td>\n",
       "      <td>Rioja, La</td>\n",
       "      <td>Viniegra de Abajo</td>\n",
       "      <td>261780</td>\n",
       "      <td>Juan Ignacio Martínez Fernández</td>\n",
       "      <td>juan ignacio martínez fernández</td>\n",
       "    </tr>\n",
       "    <tr>\n",
       "      <th>8759</th>\n",
       "      <td>Rioja, La</td>\n",
       "      <td>Rioja, La</td>\n",
       "      <td>Viniegra de Arriba</td>\n",
       "      <td>261793</td>\n",
       "      <td>Laura Crespi Lázaro</td>\n",
       "      <td>laura crespi lázaro</td>\n",
       "    </tr>\n",
       "    <tr>\n",
       "      <th>8760</th>\n",
       "      <td>Rioja, La</td>\n",
       "      <td>Rioja, La</td>\n",
       "      <td>Zarratón</td>\n",
       "      <td>261807</td>\n",
       "      <td>Víctor Manuel Manso Ocio</td>\n",
       "      <td>víctor manuel manso ocio</td>\n",
       "    </tr>\n",
       "    <tr>\n",
       "      <th>8761</th>\n",
       "      <td>Rioja, La</td>\n",
       "      <td>Rioja, La</td>\n",
       "      <td>Zarzosa</td>\n",
       "      <td>261814</td>\n",
       "      <td>José María Sáenz Blanco</td>\n",
       "      <td>josé maría sáenz blanco</td>\n",
       "    </tr>\n",
       "    <tr>\n",
       "      <th>8762</th>\n",
       "      <td>Rioja, La</td>\n",
       "      <td>Rioja, La</td>\n",
       "      <td>Zorraquín</td>\n",
       "      <td>261835</td>\n",
       "      <td>José Ángel Capellán Marín</td>\n",
       "      <td>josé ángel capellán marín</td>\n",
       "    </tr>\n",
       "  </tbody>\n",
       "</table>\n",
       "<p>95473 rows × 6 columns</p>\n",
       "</div>"
      ],
      "text/plain": [
       "           CCAA  PROVINCIA           MUNICIPIO     INE  \\\n",
       "0     Andalucía    Almería            ABRUCENA  040025   \n",
       "1     Andalucía    Almería                ADRA  040031   \n",
       "2     Andalucía    Almería           ALBANCHEZ  040046   \n",
       "3     Andalucía    Almería           ALBOLODUY  040059   \n",
       "4     Andalucía    Almería               ALBOX  040062   \n",
       "...         ...        ...                 ...     ...   \n",
       "8758  Rioja, La  Rioja, La   Viniegra de Abajo  261780   \n",
       "8759  Rioja, La  Rioja, La  Viniegra de Arriba  261793   \n",
       "8760  Rioja, La  Rioja, La            Zarratón  261807   \n",
       "8761  Rioja, La  Rioja, La             Zarzosa  261814   \n",
       "8762  Rioja, La  Rioja, La           Zorraquín  261835   \n",
       "\n",
       "                               NOMBRE                nombre_minusculas  \n",
       "0                  MARTINEZ LAO, JUAN               martinez lao, juan  \n",
       "1             SARMIENTO POSADA, PEDRO          sarmiento posada, pedro  \n",
       "2                 MARTOS AYBAR, RAMON              martos aybar, ramon  \n",
       "3            BLANES PANIAGUA, MARIANO         blanes paniagua, mariano  \n",
       "4                MIRAS CARRASCO, JOSE             miras carrasco, jose  \n",
       "...                               ...                              ...  \n",
       "8758  Juan Ignacio Martínez Fernández  juan ignacio martínez fernández  \n",
       "8759              Laura Crespi Lázaro              laura crespi lázaro  \n",
       "8760         Víctor Manuel Manso Ocio         víctor manuel manso ocio  \n",
       "8761          José María Sáenz Blanco          josé maría sáenz blanco  \n",
       "8762        José Ángel Capellán Marín        josé ángel capellán marín  \n",
       "\n",
       "[95473 rows x 6 columns]"
      ]
     },
     "execution_count": 111,
     "metadata": {},
     "output_type": "execute_result"
    }
   ],
   "source": [
    "dfAlcaldes['nombre_minusculas'] = dfAlcaldes['NOMBRE'].str.lower()\n",
    "dfAlcaldes\n"
   ]
  },
  {
   "cell_type": "markdown",
   "metadata": {},
   "source": []
  },
  {
   "cell_type": "code",
   "execution_count": 112,
   "metadata": {},
   "outputs": [
    {
     "data": {
      "text/plain": [
       "0                    martinez lao, juan\n",
       "1               sarmiento posada, pedro\n",
       "2                   martos aybar, ramon\n",
       "3              blanes paniagua, mariano\n",
       "4                  miras carrasco, jose\n",
       "                     ...               \n",
       "8758    juan ignacio martínez fernández\n",
       "8759                laura crespi lázaro\n",
       "8760           víctor manuel manso ocio\n",
       "8761            josé maría sáenz blanco\n",
       "8762          josé ángel capellán marín\n",
       "Name: nombre_minusculas, Length: 95473, dtype: object"
      ]
     },
     "execution_count": 112,
     "metadata": {},
     "output_type": "execute_result"
    }
   ],
   "source": [
    "df = dfAlcaldes['nombre_minusculas']\n",
    "df"
   ]
  },
  {
   "cell_type": "markdown",
   "metadata": {},
   "source": [
    "### Quitamos los acentos gráficos"
   ]
  },
  {
   "cell_type": "code",
   "execution_count": 113,
   "metadata": {},
   "outputs": [
    {
     "data": {
      "text/plain": [
       "0                    martinez lao, juan\n",
       "1               sarmiento posada, pedro\n",
       "2                   martos aybar, ramon\n",
       "3              blanes paniagua, mariano\n",
       "4                  miras carrasco, jose\n",
       "                     ...               \n",
       "8758    juan ignacio martinez fernandez\n",
       "8759                laura crespi lazaro\n",
       "8760           victor manuel manso ocio\n",
       "8761            jose maria saenz blanco\n",
       "8762          jose angel capellan marin\n",
       "Name: nombre_minusculas, Length: 95473, dtype: object"
      ]
     },
     "execution_count": 113,
     "metadata": {},
     "output_type": "execute_result"
    }
   ],
   "source": [
    "df = df.str.replace('á', 'a').str.replace('é', 'e').str.replace('í', 'i').str.replace('ó', 'o').str.replace('ú', 'u')\n",
    "df"
   ]
  },
  {
   "cell_type": "markdown",
   "metadata": {},
   "source": [
    "### Separamos los apellidos del nombre con un split usando la ','"
   ]
  },
  {
   "cell_type": "code",
   "execution_count": 114,
   "metadata": {},
   "outputs": [
    {
     "data": {
      "text/html": [
       "<div>\n",
       "<style scoped>\n",
       "    .dataframe tbody tr th:only-of-type {\n",
       "        vertical-align: middle;\n",
       "    }\n",
       "\n",
       "    .dataframe tbody tr th {\n",
       "        vertical-align: top;\n",
       "    }\n",
       "\n",
       "    .dataframe thead th {\n",
       "        text-align: right;\n",
       "    }\n",
       "</style>\n",
       "<table border=\"1\" class=\"dataframe\">\n",
       "  <thead>\n",
       "    <tr style=\"text-align: right;\">\n",
       "      <th></th>\n",
       "      <th>0</th>\n",
       "      <th>1</th>\n",
       "    </tr>\n",
       "  </thead>\n",
       "  <tbody>\n",
       "    <tr>\n",
       "      <th>0</th>\n",
       "      <td>martinez lao</td>\n",
       "      <td>juan</td>\n",
       "    </tr>\n",
       "    <tr>\n",
       "      <th>1</th>\n",
       "      <td>sarmiento posada</td>\n",
       "      <td>pedro</td>\n",
       "    </tr>\n",
       "    <tr>\n",
       "      <th>2</th>\n",
       "      <td>martos aybar</td>\n",
       "      <td>ramon</td>\n",
       "    </tr>\n",
       "    <tr>\n",
       "      <th>3</th>\n",
       "      <td>blanes paniagua</td>\n",
       "      <td>mariano</td>\n",
       "    </tr>\n",
       "    <tr>\n",
       "      <th>4</th>\n",
       "      <td>miras carrasco</td>\n",
       "      <td>jose</td>\n",
       "    </tr>\n",
       "    <tr>\n",
       "      <th>...</th>\n",
       "      <td>...</td>\n",
       "      <td>...</td>\n",
       "    </tr>\n",
       "    <tr>\n",
       "      <th>8758</th>\n",
       "      <td>juan ignacio martinez fernandez</td>\n",
       "      <td>None</td>\n",
       "    </tr>\n",
       "    <tr>\n",
       "      <th>8759</th>\n",
       "      <td>laura crespi lazaro</td>\n",
       "      <td>None</td>\n",
       "    </tr>\n",
       "    <tr>\n",
       "      <th>8760</th>\n",
       "      <td>victor manuel manso ocio</td>\n",
       "      <td>None</td>\n",
       "    </tr>\n",
       "    <tr>\n",
       "      <th>8761</th>\n",
       "      <td>jose maria saenz blanco</td>\n",
       "      <td>None</td>\n",
       "    </tr>\n",
       "    <tr>\n",
       "      <th>8762</th>\n",
       "      <td>jose angel capellan marin</td>\n",
       "      <td>None</td>\n",
       "    </tr>\n",
       "  </tbody>\n",
       "</table>\n",
       "<p>95473 rows × 2 columns</p>\n",
       "</div>"
      ],
      "text/plain": [
       "                                    0        1\n",
       "0                        martinez lao     juan\n",
       "1                    sarmiento posada    pedro\n",
       "2                        martos aybar    ramon\n",
       "3                     blanes paniagua  mariano\n",
       "4                      miras carrasco     jose\n",
       "...                               ...      ...\n",
       "8758  juan ignacio martinez fernandez     None\n",
       "8759              laura crespi lazaro     None\n",
       "8760         victor manuel manso ocio     None\n",
       "8761          jose maria saenz blanco     None\n",
       "8762        jose angel capellan marin     None\n",
       "\n",
       "[95473 rows x 2 columns]"
      ]
     },
     "execution_count": 114,
     "metadata": {},
     "output_type": "execute_result"
    }
   ],
   "source": [
    "df= df.str.split(r', ',n=1, expand=True)\n",
    "\n",
    "\n",
    "df"
   ]
  },
  {
   "cell_type": "code",
   "execution_count": 115,
   "metadata": {},
   "outputs": [
    {
     "data": {
      "text/plain": [
       "0             juan martinez lao\n",
       "1        pedro sarmiento posada\n",
       "2            ramon martos aybar\n",
       "3       mariano blanes paniagua\n",
       "4           jose miras carrasco\n",
       "                 ...           \n",
       "8758                        NaN\n",
       "8759                        NaN\n",
       "8760                        NaN\n",
       "8761                        NaN\n",
       "8762                        NaN\n",
       "Name: nombre, Length: 95473, dtype: object"
      ]
     },
     "execution_count": 115,
     "metadata": {},
     "output_type": "execute_result"
    }
   ],
   "source": [
    "df['nombre'] = df[1]+' '+df[0]\n",
    "Alcaldes = df['nombre']\n",
    "Alcaldes"
   ]
  },
  {
   "cell_type": "code",
   "execution_count": 121,
   "metadata": {},
   "outputs": [
    {
     "data": {
      "text/plain": [
       "count\n",
       "1     22094\n",
       "2      6072\n",
       "3      2519\n",
       "4      1176\n",
       "5       532\n",
       "6       227\n",
       "7        10\n",
       "8         4\n",
       "12        3\n",
       "9         3\n",
       "13        1\n",
       "Name: count, dtype: int64"
      ]
     },
     "execution_count": 121,
     "metadata": {},
     "output_type": "execute_result"
    }
   ],
   "source": [
    "Alcaldes = Alcaldes.groupby=Alcaldes.value_counts()\n",
    "Alcaldes\n"
   ]
  }
 ],
 "metadata": {
  "kernelspec": {
   "display_name": "bigdata",
   "language": "python",
   "name": "python3"
  },
  "language_info": {
   "codemirror_mode": {
    "name": "ipython",
    "version": 3
   },
   "file_extension": ".py",
   "mimetype": "text/x-python",
   "name": "python",
   "nbconvert_exporter": "python",
   "pygments_lexer": "ipython3",
   "version": "3.8.18"
  }
 },
 "nbformat": 4,
 "nbformat_minor": 2
}
