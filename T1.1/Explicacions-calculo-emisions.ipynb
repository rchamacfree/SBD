{
 "cells": [
  {
   "cell_type": "markdown",
   "metadata": {},
   "source": [
    "# Cálculo de emisiones"
   ]
  },
  {
   "cell_type": "markdown",
   "metadata": {},
   "source": [
    "A partir del cálculo de km totales que le indiquemos, y con los datos de emisiones de los medios de transporte, calcula el total de emisiones del transporte usado."
   ]
  },
  {
   "cell_type": "code",
   "execution_count": 7,
   "metadata": {},
   "outputs": [
    {
     "name": "stdout",
     "output_type": "stream",
     "text": [
      "('O teu consumo en coche:', 580800, 'gC02')\n",
      "('O teu consumo en moto:', 254400, 'gC02')\n",
      "('Al utilizar la moto ahorras al planeta', 326400, ' gC02')\n"
     ]
    }
   ],
   "source": [
    "KMS_DIARIOS = 40\n",
    "DIAS_LABORAIS_SEMANAIS = 5\n",
    "SEMANAS = 24\n",
    "\n",
    "# Cada medio de transporte ten o seu índice de emisións medio (gramos por km)\n",
    "# https://www.movilidad-idae.es/destacados/emisiones-de-co2-por-modos-de-transporte-motorizado\n",
    "EMISION_X_KM_coche = 121\n",
    "EMISION_X_KM_moto = 53\n",
    "\n",
    "cantidade_de_emisions_coche = KMS_DIARIOS * DIAS_LABORAIS_SEMANAIS * SEMANAS * EMISION_X_KM_coche\n",
    "print('O teu consumo en coche:', cantidade_de_emisions_coche, 'gC02')\n",
    "cantidade_de_emisions_moto = KMS_DIARIOS * DIAS_LABORAIS_SEMANAIS * SEMANAS * EMISION_X_KM_moto\n",
    "print('O teu consumo en moto:', cantidade_de_emisions_moto, 'gC02')\n",
    "print('Al utilizar la moto ahorras al planeta',cantidade_de_emisions_coche - cantidade_de_emisions_moto,' gC02')"
   ]
  }
 ],
 "metadata": {
  "kernelspec": {
   "display_name": "Python 2",
   "language": "python",
   "name": "python2"
  },
  "language_info": {
   "codemirror_mode": {
    "name": "ipython",
    "version": 2
   },
   "file_extension": ".py",
   "mimetype": "text/x-python",
   "name": "python",
   "nbconvert_exporter": "python",
   "pygments_lexer": "ipython2",
   "version": "2.7.15"
  }
 },
 "nbformat": 4,
 "nbformat_minor": 2
}
